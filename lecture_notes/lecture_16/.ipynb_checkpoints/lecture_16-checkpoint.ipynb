{
 "cells": [
  {
   "cell_type": "markdown",
   "id": "cf7f87e3",
   "metadata": {
    "slideshow": {
     "slide_type": "slide"
    }
   },
   "source": [
    "<div align=\"center\">\n",
    "    <h1>DS-210: Programming for Data Science</h1>\n",
    "    <h1>Lecture 16</h1>\n",
    "</div>\n",
    "\n",
    "\n",
    "# Rust:  Functions. Flow control. Arrays.\n"
   ]
  },
  {
   "cell_type": "markdown",
   "id": "af0e1a6f",
   "metadata": {
    "slideshow": {
     "slide_type": "slide"
    }
   },
   "source": [
    "## Project manager: `cargo`\n",
    "\n",
    "* create a project: `cargo new PROJECT-NAME`\n",
    "* main file will be `PROJECT-NAME/src/main.rs`\n",
    "* to compile and run: `cargo run`\n",
    "* to just compile: `cargo build`\n",
    "* Add `--release` to create a \"fully optimized\" version:\n",
    "* In order to just check for compile errors: `cargo check`"
   ]
  },
  {
   "cell_type": "markdown",
   "id": "adab725b",
   "metadata": {
    "slideshow": {
     "slide_type": "slide"
    }
   },
   "source": [
    "## Conditional expressions: `if`\n",
    "\n"
   ]
  },
  {
   "cell_type": "markdown",
   "id": "d5a3b94a",
   "metadata": {
    "cell_style": "split"
   },
   "source": [
    "Syntax:\n",
    "```rust\n",
    "if condition {\n",
    "    DO-SOMETHING-HERE\n",
    "} else {\n",
    "    DO-SOMETHING-ELSE-HERE\n",
    "}\n",
    "```\n",
    "* `else` part optional\n",
    "* Compared to many C-like languages:\n",
    "  * no parentheses around `condition` needed!\n",
    "  * the braces mandatory"
   ]
  },
  {
   "cell_type": "code",
   "execution_count": 2,
   "id": "10cd8669",
   "metadata": {
    "cell_style": "split",
    "slideshow": {
     "slide_type": "fragment"
    }
   },
   "outputs": [
    {
     "name": "stdout",
     "output_type": "stream",
     "text": [
      "x is not greater than 15\n"
     ]
    }
   ],
   "source": [
    "let x = 7;\n",
    "if x <= 15 {\n",
    "    println!(\"x is not greater than 15\");\n",
    "};"
   ]
  },
  {
   "cell_type": "code",
   "execution_count": 3,
   "id": "f2c9c1ca",
   "metadata": {
    "cell_style": "split",
    "slideshow": {
     "slide_type": "fragment"
    }
   },
   "outputs": [
    {
     "name": "stdout",
     "output_type": "stream",
     "text": [
      "x is greater than 5\n"
     ]
    }
   ],
   "source": [
    "let threshold = 5;\n",
    "if x <= threshold {\n",
    "    println!(\"x is at most {}\",threshold);\n",
    "} else {\n",
    "    println!(\"x is greater than {}\", threshold);\n",
    "};"
   ]
  },
  {
   "cell_type": "markdown",
   "id": "d2f2af54",
   "metadata": {
    "slideshow": {
     "slide_type": "subslide"
    }
   },
   "source": [
    "## Using conditional expressions as values"
   ]
  },
  {
   "cell_type": "markdown",
   "id": "da005880",
   "metadata": {
    "cell_style": "split"
   },
   "source": [
    "Python:\n",
    "```python\n",
    "100 if (x == 7) else 200 \n",
    "```\n",
    "\n",
    "C++:\n",
    "```c++\n",
    "(x == 7) ? 100 : 200\n",
    "```\n",
    "\n",
    "Rust:\n",
    "```rust\n",
    "if x == 7 {100} else {200}\n",
    "```"
   ]
  },
  {
   "cell_type": "code",
   "execution_count": 5,
   "id": "3c66d31a",
   "metadata": {
    "cell_style": "split",
    "slideshow": {
     "slide_type": "fragment"
    }
   },
   "outputs": [
    {
     "name": "stdout",
     "output_type": "stream",
     "text": [
      "200\n"
     ]
    }
   ],
   "source": [
    "let x = 4;\n",
    "println!(\"{}\",if x == 7 {100} else {200});"
   ]
  },
  {
   "cell_type": "code",
   "execution_count": 6,
   "id": "3fe8bda3",
   "metadata": {
    "cell_style": "split",
    "slideshow": {
     "slide_type": "fragment"
    }
   },
   "outputs": [
    {
     "ename": "Error",
     "evalue": "`if` and `else` have incompatible types",
     "output_type": "error",
     "traceback": [
      "\u001b[31m[E0308] Error:\u001b[0m `if` and `else` have incompatible types",
      "   \u001b[38;5;246m╭\u001b[0m\u001b[38;5;246m─\u001b[0m\u001b[38;5;246m[\u001b[0mcommand_6:1:1\u001b[38;5;246m]\u001b[0m",
      "   \u001b[38;5;246m│\u001b[0m",
      " \u001b[38;5;246m2 │\u001b[0m \u001b[38;5;249mp\u001b[0m\u001b[38;5;249mr\u001b[0m\u001b[38;5;249mi\u001b[0m\u001b[38;5;249mn\u001b[0m\u001b[38;5;249mt\u001b[0m\u001b[38;5;249ml\u001b[0m\u001b[38;5;249mn\u001b[0m\u001b[38;5;249m!\u001b[0m\u001b[38;5;249m(\u001b[0m\u001b[38;5;249m\"\u001b[0m\u001b[38;5;249m{\u001b[0m\u001b[38;5;249m}\u001b[0m\u001b[38;5;249m\"\u001b[0m\u001b[38;5;249m,\u001b[0m\u001b[38;5;249mi\u001b[0m\u001b[38;5;249mf\u001b[0m\u001b[38;5;249m \u001b[0m\u001b[38;5;249mx\u001b[0m\u001b[38;5;249m \u001b[0m\u001b[38;5;249m=\u001b[0m\u001b[38;5;249m=\u001b[0m\u001b[38;5;249m \u001b[0m\u001b[38;5;249m7\u001b[0m\u001b[38;5;249m \u001b[0m\u001b[38;5;249m{\u001b[0m\u001b[38;5;100m1\u001b[0m\u001b[38;5;100m0\u001b[0m\u001b[38;5;100m0\u001b[0m\u001b[38;5;249m}\u001b[0m\u001b[38;5;249m \u001b[0m\u001b[38;5;249me\u001b[0m\u001b[38;5;249ml\u001b[0m\u001b[38;5;249ms\u001b[0m\u001b[38;5;249me\u001b[0m\u001b[38;5;249m \u001b[0m\u001b[38;5;249m{\u001b[0m\u001b[38;5;54m1\u001b[0m\u001b[38;5;54m.\u001b[0m\u001b[38;5;54m2\u001b[0m\u001b[38;5;249m}\u001b[0m\u001b[38;5;249m)\u001b[0m\u001b[38;5;249m;\u001b[0m",
      " \u001b[38;5;246m  ·\u001b[0m                          \u001b[38;5;100m─\u001b[0m\u001b[38;5;100m┬\u001b[0m\u001b[38;5;100m─\u001b[0m        \u001b[38;5;54m─\u001b[0m\u001b[38;5;54m┬\u001b[0m\u001b[38;5;54m─\u001b[0m  ",
      " \u001b[38;5;246m  ·\u001b[0m                           \u001b[38;5;100m╰\u001b[0m\u001b[38;5;100m─\u001b[0m\u001b[38;5;100m─\u001b[0m\u001b[38;5;100m─\u001b[0m\u001b[38;5;100m─\u001b[0m\u001b[38;5;100m─\u001b[0m\u001b[38;5;100m─\u001b[0m\u001b[38;5;100m─\u001b[0m\u001b[38;5;100m─\u001b[0m\u001b[38;5;100m─\u001b[0m\u001b[38;5;100m─\u001b[0m\u001b[38;5;100m─\u001b[0m\u001b[38;5;100m─\u001b[0m\u001b[38;5;100m─\u001b[0m\u001b[38;5;100m─\u001b[0m expected because of this",
      " \u001b[38;5;246m  ·\u001b[0m                                      \u001b[38;5;54m│\u001b[0m   ",
      " \u001b[38;5;246m  ·\u001b[0m                                      \u001b[38;5;54m╰\u001b[0m\u001b[38;5;54m─\u001b[0m\u001b[38;5;54m─\u001b[0m\u001b[38;5;54m─\u001b[0m expected integer, found floating-point number",
      "\u001b[38;5;246m───╯\u001b[0m"
     ]
    }
   ],
   "source": [
    "// won't work: same type needed\n",
    "println!(\"{}\",if x == 7 {100} else {1.2});"
   ]
  },
  {
   "cell_type": "code",
   "execution_count": 7,
   "id": "4346bded",
   "metadata": {
    "cell_style": "split",
    "slideshow": {
     "slide_type": "fragment"
    }
   },
   "outputs": [
    {
     "name": "stdout",
     "output_type": "stream",
     "text": [
      "17\n"
     ]
    }
   ],
   "source": [
    "// blocks can be more complicated\n",
    "// last expression counts (no semicolon after)\n",
    "// But please don't write this just because you can\n",
    "let z = if x == 4 {\n",
    "    let t = x * x;\n",
    "    t + 1\n",
    "} else {\n",
    "    x + 1\n",
    "};\n",
    "println!(\"{}\",z);"
   ]
  },
  {
   "cell_type": "code",
   "execution_count": 8,
   "id": "a7dbcd6d",
   "metadata": {
    "cell_style": "split"
   },
   "outputs": [
    {
     "name": "stdout",
     "output_type": "stream",
     "text": [
      "17\n"
     ]
    },
    {
     "data": {
      "text/plain": [
       "()"
      ]
     },
     "execution_count": 8,
     "metadata": {},
     "output_type": "execute_result"
    }
   ],
   "source": [
    "// Write this instead\n",
    "let x = 4;\n",
    "let z;\n",
    "if x == 4 { z = x*x+1 } else { z = x+1};\n",
    "println!(\"{}\", z)"
   ]
  },
  {
   "cell_type": "markdown",
   "id": "6d4c3b16",
   "metadata": {},
   "source": [
    "### A winner of the most obscure code competition (https://www.ioccc.org/)\n",
    "```C\n",
    "#include <stdio.h> \n",
    "\n",
    "#define N(a)       \"%\"#a\"$hhn\"\n",
    "#define O(a,b)     \"%10$\"#a\"d\"N(b)\n",
    "#define U          \"%10$.*37$d\"\n",
    "#define G(a)       \"%\"#a\"$s\"\n",
    "#define H(a,b)     G(a)G(b)\n",
    "#define T(a)       a a \n",
    "#define s(a)       T(a)T(a)\n",
    "#define A(a)       s(a)T(a)a\n",
    "#define n(a)       A(a)a\n",
    "#define D(a)       n(a)A(a)\n",
    "#define C(a)       D(a)a\n",
    "#define R          C(C(N(12)G(12)))\n",
    "#define o(a,b,c)   C(H(a,a))D(G(a))C(H(b,b)G(b))n(G(b))O(32,c)R\n",
    "#define SS         O(78,55)R \"\\n\\033[2J\\n%26$s\";\n",
    "#define E(a,b,c,d) H(a,b)G(c)O(253,11)R G(11)O(255,11)R H(11,d)N(d)O(253,35)R\n",
    "#define S(a,b)     O(254,11)H(a,b)N(68)R G(68)O(255,68)N(12)H(12,68)G(67)N(67)\n",
    "\n",
    "char* fmt = O(10,39)N(40)N(41)N(42)N(43)N(66)N(69)N(24)O(22,65)O(5,70)O(8,44)N(\n",
    "            45)N(46)N    (47)N(48)N(    49)N( 50)N(     51)N(52)N(53    )O( 28,\n",
    "            54)O(5,        55) O(2,    56)O(3,57)O(      4,58 )O(13,    73)O(4,\n",
    "            71 )N(   72)O   (20,59    )N(60)N(61)N(       62)N (63)N    (64)R R\n",
    "            E(1,2,   3,13   )E(4,    5,6,13)E(7,8,9        ,13)E(1,4    ,7,13)E\n",
    "            (2,5,8,        13)E(    3,6,9,13)E(1,5,         9,13)E(3    ,5,7,13\n",
    "            )E(14,15,    16,23)    E(17,18,19,23)E(          20, 21,    22,23)E\n",
    "            (14,17,20,23)E(15,    18,21,23)E(16,19,    22     ,23)E(    14, 18,\n",
    "            22,23)E(16,18,20,    23)R U O(255 ,38)R    G (     38)O(    255,36)\n",
    "            R H(13,23)O(255,    11)R H(11,36) O(254    ,36)     R G(    36 ) O(\n",
    "            255,36)R S(1,14    )S(2,15)S(3, 16)S(4,    17 )S     (5,    18)S(6,\n",
    "            19)S(7,20)S(8,    21)S(9    ,22)H(13,23    )H(36,     67    )N(11)R\n",
    "            G(11)\"\"O(255,    25 )R        s(C(G(11)    ))n (G(          11) )G(\n",
    "            11)N(54)R C(    \"aa\")   s(A(   G(25)))T    (G(25))N         (69)R o\n",
    "            (14,1,26)o(    15, 2,   27)o   (16,3,28    )o( 17,4,        29)o(18\n",
    "            ,5,30)o(19    ,6,31)o(        20,7,32)o    (21,8,33)o       (22 ,9,\n",
    "            34)n(C(U)    )N( 68)R H(    36,13)G(23)    N(11)R C(D(      G(11)))\n",
    "            D(G(11))G(68)N(68)R G(68)O(49,35)R H(13,23)G(67)N(11)R C(H(11,11)G(\n",
    "            11))A(G(11))C(H(36,36)G(36))s(G(36))O(32,58)R C(D(G(36)))A(G(36))SS\n",
    "\n",
    "#define arg d+6,d+8,d+10,d+12,d+14,d+16,d+18,d+20,d+22,0,d+46,d+52,d+48,d+24,d\\\n",
    "            +26,d+28,d+30,d+32,d+34,d+36,d+38,d+40,d+50,(scanf(d+126,d+4),d+(6\\\n",
    "            -2)+18*(1-d[2]%2)+d[4]*2),d,d+66,d+68,d+70, d+78,d+80,d+82,d+90,d+\\\n",
    "            92,d+94,d+97,d+54,d[2],d+2,d+71,d+77,d+83,d+89,d+95,d+72,d+73,d+74\\\n",
    "            ,d+75,d+76,d+84,d+85,d+86,d+87,d+88,d+100,d+101,d+96,d+102,d+99,d+\\\n",
    "            67,d+69,d+79,d+81,d+91,d+93,d+98,d+103,d+58,d+60,d+98,d+126,d+127,\\\n",
    "            d+128,d+129\n",
    "\n",
    "char d[538] = {1,0,10,0,10};\n",
    "\n",
    "int main() {\n",
    "    while(*d) printf(fmt, arg);\n",
    "}\n",
    "```"
   ]
  },
  {
   "cell_type": "markdown",
   "id": "5ed9df2f",
   "metadata": {
    "slideshow": {
     "slide_type": "slide"
    }
   },
   "source": [
    "## Functions\n",
    "Syntax:\n",
    "```rust\n",
    "fn function_name(argname_1:type_1,argname_2:type_2) -> type_ret {\n",
    "    DO-SOMETHING-HERE-AND-RETURN-A-VALUE\n",
    "}\n",
    "```"
   ]
  },
  {
   "cell_type": "code",
   "execution_count": 12,
   "id": "c990d9c5",
   "metadata": {
    "slideshow": {
     "slide_type": "fragment"
    }
   },
   "outputs": [
    {
     "data": {
      "text/plain": [
       "200"
      ]
     },
     "execution_count": 12,
     "metadata": {},
     "output_type": "execute_result"
    }
   ],
   "source": [
    "fn multiply(x:i32, y:i32) -> i32 {\n",
    "    // note: no need to write \"return x * y\"\n",
    "    return x * y;\n",
    "}\n",
    "\n",
    "multiply(10,20)"
   ]
  },
  {
   "cell_type": "code",
   "execution_count": 23,
   "id": "949ac424",
   "metadata": {
    "slideshow": {
     "slide_type": "fragment"
    }
   },
   "outputs": [
    {
     "data": {
      "text/plain": [
       "false"
      ]
     },
     "execution_count": 23,
     "metadata": {},
     "output_type": "execute_result"
    }
   ],
   "source": [
    "// But if you add a return then you need a semicolon unless it is the last statement in the function\n",
    "// Please use returns and add semicolons everywhere.  It's easier to read.\n",
    "fn and(p:bool, q:bool, r:bool) -> bool {\n",
    "    if !p {\n",
    "        return false;\n",
    "    }\n",
    "    if !q {\n",
    "        return false;\n",
    "    }\n",
    "    r // return r without the semicolon also works here, and we also do not need to use the 'return' keyword\n",
    "}\n",
    "\n",
    "and(true,false,true)"
   ]
  },
  {
   "cell_type": "markdown",
   "id": "79a03592",
   "metadata": {
    "slideshow": {
     "slide_type": "subslide"
    }
   },
   "source": [
    "## Functions: returning no value"
   ]
  },
  {
   "cell_type": "markdown",
   "id": "ed56ff77",
   "metadata": {
    "cell_style": "split",
    "slideshow": {
     "slide_type": "-"
    }
   },
   "source": [
    "**How:** skip the type of returned value part"
   ]
  },
  {
   "cell_type": "code",
   "execution_count": 25,
   "id": "a647e646",
   "metadata": {
    "cell_style": "split"
   },
   "outputs": [
    {
     "name": "stdout",
     "output_type": "stream",
     "text": [
      "Hello, world!\n",
      "Hello, Boston!\n",
      "Hello, MCS B37!\n"
     ]
    }
   ],
   "source": [
    "fn say_hello(who:&str) {\n",
    "    println!(\"Hello, {}!\", who);\n",
    "}\n",
    " \n",
    "say_hello(\"world\");\n",
    "say_hello(\"Boston\");\n",
    "say_hello(\"MCS B37\");"
   ]
  },
  {
   "cell_type": "markdown",
   "id": "95633bf2",
   "metadata": {
    "cell_style": "split",
    "slideshow": {
     "slide_type": "fragment"
    }
   },
   "source": [
    "Nothing returned equivalent to the unit type, `()`"
   ]
  },
  {
   "cell_type": "code",
   "execution_count": 29,
   "id": "16000f66",
   "metadata": {
    "cell_style": "split"
   },
   "outputs": [
    {
     "name": "stdout",
     "output_type": "stream",
     "text": [
      "Good night room\n",
      "Good night moon\n",
      "Good night cow jumping over the moon\n",
      "The function returned ()\n"
     ]
    },
    {
     "data": {
      "text/plain": [
       "()"
      ]
     },
     "execution_count": 29,
     "metadata": {},
     "output_type": "execute_result"
    }
   ],
   "source": [
    "fn say_good_night(who:&str) -> () {\n",
    "    println!(\"Good night {}\",who);\n",
    "}\n",
    "\n",
    "say_good_night(\"room\");\n",
    "say_good_night(\"moon\");\n",
    "let z = say_good_night(\"cow jumping over the moon\");\n",
    "println!(\"The function returned {:?}\", z)"
   ]
  },
  {
   "cell_type": "markdown",
   "id": "e3369959",
   "metadata": {
    "slideshow": {
     "slide_type": "slide"
    }
   },
   "source": [
    "## Loops: `for`\n",
    "Usage: iterate over an iterator, range, or collection"
   ]
  },
  {
   "cell_type": "code",
   "execution_count": 30,
   "id": "5e58968b",
   "metadata": {
    "cell_style": "split"
   },
   "outputs": [
    {
     "name": "stdout",
     "output_type": "stream",
     "text": [
      "1\n",
      "2\n",
      "3\n",
      "4\n"
     ]
    }
   ],
   "source": [
    "for i in 1..5 {\n",
    "    println!(\"{}\",i);\n",
    "};"
   ]
  },
  {
   "cell_type": "code",
   "execution_count": 31,
   "id": "8a0378bf",
   "metadata": {
    "cell_style": "split",
    "slideshow": {
     "slide_type": "fragment"
    }
   },
   "outputs": [
    {
     "name": "stdout",
     "output_type": "stream",
     "text": [
      "4\n",
      "3\n",
      "2\n",
      "1\n"
     ]
    }
   ],
   "source": [
    "// reverse order\n",
    "for i in (1..5).rev() {\n",
    "    println!(\"{}\",i)\n",
    "};"
   ]
  },
  {
   "cell_type": "code",
   "execution_count": 32,
   "id": "f4182939",
   "metadata": {
    "cell_style": "split",
    "slideshow": {
     "slide_type": "fragment"
    }
   },
   "outputs": [
    {
     "name": "stdout",
     "output_type": "stream",
     "text": [
      "1\n",
      "2\n",
      "3\n",
      "4\n",
      "5\n"
     ]
    }
   ],
   "source": [
    "// closed range\n",
    "for i in 1..=5 {\n",
    "    println!(\"{}\",i);\n",
    "};"
   ]
  },
  {
   "cell_type": "code",
   "execution_count": 11,
   "id": "b8663880",
   "metadata": {
    "cell_style": "split",
    "slideshow": {
     "slide_type": "fragment"
    }
   },
   "outputs": [
    {
     "name": "stdout",
     "output_type": "stream",
     "text": [
      "This is a test\n",
      "1\n",
      "This is a test\n",
      "3\n",
      "And now for the reverse\n",
      "3\n",
      "1\n",
      "But....\n",
      "4\n",
      "2\n"
     ]
    }
   ],
   "source": [
    "// every other element \n",
    "for i in (1..5).step_by(2) {\n",
    "    println!(\"This is a test\");\n",
    "    println!(\"{}\",i);\n",
    "};\n",
    "println!(\"And now for the reverse\");\n",
    "for i in (1..5).step_by(2).rev() {\n",
    "    println!(\"{}\",i)\n",
    "};\n",
    "println!(\"But....\");\n",
    "for i in (1..5).rev().step_by(2) {\n",
    "    println!(\"{}\",i);\n",
    "};\n"
   ]
  },
  {
   "cell_type": "markdown",
   "id": "7a82b054",
   "metadata": {
    "slideshow": {
     "slide_type": "subslide"
    }
   },
   "source": [
    "## Arrays and `for` over an array\n",
    "\n",
    "* Arrays in Rust are of fixed length (we'll learn about more flexible `Vec` later)\n",
    "* All elements of the same type\n",
    "* You can not add or remove elements from an array (but you can change its value)\n",
    "* Python **does not**  have arrays natively"
   ]
  },
  {
   "cell_type": "code",
   "execution_count": 39,
   "id": "04f7e0ba",
   "metadata": {
    "cell_style": "split"
   },
   "outputs": [
    {
     "name": "stdout",
     "output_type": "stream",
     "text": [
      "1 13\n"
     ]
    },
    {
     "data": {
      "text/plain": [
       "StepBy { iter: Rev { iter: Iter([1, 13, 2, 5, 2]) }, step: 1, first_take: true }"
      ]
     },
     "execution_count": 39,
     "metadata": {},
     "output_type": "execute_result"
    }
   ],
   "source": [
    "// simplest definition\n",
    "// compiler guessing element type to be i32\n",
    "// indexing starts at 0\n",
    "let mut arr = [1,7,2,5,2];\n",
    "arr[1] = 13;\n",
    "println!(\"{} {}\",arr[0],arr[1]);"
   ]
  },
  {
   "cell_type": "code",
   "execution_count": 20,
   "id": "8d335357",
   "metadata": {
    "cell_style": "split",
    "slideshow": {
     "slide_type": "fragment"
    }
   },
   "outputs": [
    {
     "name": "stdout",
     "output_type": "stream",
     "text": [
      "1\n",
      "2\n",
      "2\n",
      "5\n",
      "13\n"
     ]
    }
   ],
   "source": [
    "arr.sort();\n",
    "// loop over the array\n",
    "for x in arr {\n",
    "    println!(\"{}\",x);\n",
    "};"
   ]
  },
  {
   "cell_type": "code",
   "execution_count": 21,
   "id": "9e03cf0f",
   "metadata": {
    "cell_style": "split",
    "slideshow": {
     "slide_type": "fragment"
    }
   },
   "outputs": [
    {
     "name": "stdout",
     "output_type": "stream",
     "text": [
      "15 15 15 \n"
     ]
    }
   ],
   "source": [
    "// create array of given length\n",
    "// and fill it with a specific value\n",
    "let arr2 = [15;3];\n",
    "for x in arr2 {\n",
    "    print!(\"{} \",x);\n",
    "}\n",
    "println!();"
   ]
  },
  {
   "cell_type": "code",
   "execution_count": 5,
   "id": "99806f4f",
   "metadata": {
    "cell_style": "split",
    "slideshow": {
     "slide_type": "fragment"
    }
   },
   "outputs": [
    {
     "name": "stdout",
     "output_type": "stream",
     "text": [
      "15\n"
     ]
    }
   ],
   "source": [
    "// with type definition included\n",
    "let arr3 : [u8;3] = [15;3]; \n",
    "println!(\"{}\", arr3[2]);"
   ]
  },
  {
   "cell_type": "code",
   "execution_count": 23,
   "id": "4381bfdc",
   "metadata": {
    "cell_style": "split",
    "slideshow": {
     "slide_type": "fragment"
    }
   },
   "outputs": [
    {
     "data": {
      "text/plain": [
       "3"
      ]
     },
     "execution_count": 23,
     "metadata": {},
     "output_type": "execute_result"
    }
   ],
   "source": [
    "// get the length\n",
    "arr3.len()"
   ]
  },
  {
   "cell_type": "code",
   "execution_count": 10,
   "id": "586daded",
   "metadata": {},
   "outputs": [
    {
     "name": "stdout",
     "output_type": "stream",
     "text": [
      "X is 1\n",
      "X is 2\n",
      "X is 3\n",
      "X is 4\n",
      "X is 6\n",
      "X is 7\n",
      "X is 8\n",
      "X is 9\n",
      "Result is 20\n"
     ]
    }
   ],
   "source": [
    "// loop keyword similar to while (True) in Python\n",
    "// break and continue keywords behave as you would expect\n",
    "let mut x = 1;\n",
    "let result = loop {\n",
    "    if x == 5 {\n",
    "        x = x+1;\n",
    "        continue;\n",
    "    }\n",
    "    println!(\"X is {}\", x);\n",
    "    x = x + 1;\n",
    "    if x==10 {\n",
    "        break x*2;\n",
    "    }\n",
    "};\n",
    "println!(\"Result is {}\", result);"
   ]
  },
  {
   "cell_type": "code",
   "execution_count": 14,
   "id": "4e2d01e3",
   "metadata": {},
   "outputs": [
    {
     "name": "stdout",
     "output_type": "stream",
     "text": [
      "3!\n",
      "2!\n",
      "1!\n",
      "LIFTOFF!!!\n"
     ]
    }
   ],
   "source": [
    "let mut number = 3;\n",
    "\n",
    "while number != 0 {\n",
    "    println!(\"{number}!\");\n",
    "    number -= 1;\n",
    "}\n",
    "println!(\"LIFTOFF!!!\");\n"
   ]
  },
  {
   "cell_type": "markdown",
   "id": "af7f0c33",
   "metadata": {},
   "source": [
    "## Read sections 3.3, 3.4 and 3.5"
   ]
  },
  {
   "cell_type": "code",
   "execution_count": null,
   "id": "6e64d41a",
   "metadata": {},
   "outputs": [],
   "source": []
  }
 ],
 "metadata": {
  "celltoolbar": "Slideshow",
  "kernelspec": {
   "display_name": "Rust",
   "language": "rust",
   "name": "rust"
  },
  "language_info": {
   "codemirror_mode": "rust",
   "file_extension": ".rs",
   "mimetype": "text/rust",
   "name": "Rust",
   "pygment_lexer": "rust",
   "version": ""
  },
  "rise": {
   "theme": "beige",
   "transition": "fade"
  }
 },
 "nbformat": 4,
 "nbformat_minor": 5
}
