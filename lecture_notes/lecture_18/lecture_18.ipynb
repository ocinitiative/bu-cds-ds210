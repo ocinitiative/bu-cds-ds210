{
 "cells": [
  {
   "cell_type": "markdown",
   "id": "cf7f87e3",
   "metadata": {
    "slideshow": {
     "slide_type": "slide"
    }
   },
   "source": [
    "<div align=\"center\">\n",
    "    <h1>DS-210: Programming for Data Science</h1>\n",
    "    <h1>Lecture 18</h1>\n",
    "</div>\n",
    "\n",
    "\n",
    "# 1. Structs\n",
    "# 2. Memory Management: Stack and Heap\n"
   ]
  },
  {
   "cell_type": "markdown",
   "id": "da232bb0",
   "metadata": {
    "slideshow": {
     "slide_type": "slide"
    }
   },
   "source": [
    "## Structs\n",
    "\n",
    "Last time: tuples, e.g., `(12, 1.7, true)`\n",
    "\n",
    "Structs compared to tuples:<br>\n",
    "$\\bullet$ **Similar:** can hold a few items of different types<br>\n",
    "$\\bullet$ **Different:** the items have names"
   ]
  },
  {
   "cell_type": "code",
   "execution_count": 2,
   "id": "44407d05",
   "metadata": {
    "cell_style": "split",
    "slideshow": {
     "slide_type": "fragment"
    }
   },
   "outputs": [],
   "source": [
    "// Definition: list items (called fields)\n",
    "//             and their types\n",
    "\n",
    "struct Person {\n",
    "    name: String,\n",
    "    year_born: u16,\n",
    "    time_100m: f64,\n",
    "    likes_ice_cream: bool,\n",
    "}"
   ]
  },
  {
   "cell_type": "code",
   "execution_count": 5,
   "id": "ba0974fb",
   "metadata": {
    "cell_style": "split",
    "slideshow": {
     "slide_type": "fragment"
    }
   },
   "outputs": [],
   "source": [
    "// Instantiation: replace types with values\n",
    "\n",
    "let mut cartoon_character: Person = Person {\n",
    "    name: String::from(\"Tasmanian Devil\"),\n",
    "    year_born: 1954,\n",
    "    time_100m: 7.52,\n",
    "    likes_ice_cream: true,\n",
    "};\n"
   ]
  },
  {
   "cell_type": "code",
   "execution_count": 6,
   "id": "c1e650ac",
   "metadata": {
    "cell_style": "split",
    "slideshow": {
     "slide_type": "fragment"
    }
   },
   "outputs": [
    {
     "name": "stdout",
     "output_type": "stream",
     "text": [
      "Tasmanian Devil was born in 1954\n",
      "Tasmanian Devil was born in 2022\n"
     ]
    }
   ],
   "source": [
    "// Accessing fields: use \".field_name\"\n",
    "println!(\"{} was born in {}\",\n",
    "    cartoon_character.name,\n",
    "    cartoon_character.year_born);\n",
    "cartoon_character.year_born = 2022; // Modify the value in struct\n",
    "println!(\"{} was born in {}\",\n",
    "    cartoon_character.name,\n",
    "    cartoon_character.year_born);"
   ]
  },
  {
   "cell_type": "markdown",
   "id": "b8d0cd12",
   "metadata": {
    "cell_style": "split",
    "slideshow": {
     "slide_type": "fragment"
    }
   },
   "source": [
    "<br>\n",
    "<div align=\"center\">\n",
    "    <b>Structs vs tuples:<br>Which are better?</b>\n",
    "</div>"
   ]
  },
  {
   "cell_type": "markdown",
   "id": "6dd7f949",
   "metadata": {
    "slideshow": {
     "slide_type": "subslide"
    }
   },
   "source": [
    "\n",
    "## Tuple structs\n",
    "\n",
    "Named tuples to impose more meaning and delineate a different type.  Notice the different syntax () vs {}.\n",
    "\n",
    "Example: both `(f64,f64,f64)`\n",
    "* box size (e.g., 8.5 in${}\\times{}$11 in${}\\times{}$6 in)\n",
    "* Euclidean coordinates of a point in 3D"
   ]
  },
  {
   "cell_type": "code",
   "execution_count": 7,
   "id": "de6426bc",
   "metadata": {
    "cell_style": "split",
    "slideshow": {
     "slide_type": "fragment"
    }
   },
   "outputs": [],
   "source": [
    "struct BoxSize(f64,f64,f64);\n",
    "struct Point2(f64,f64,f64);"
   ]
  },
  {
   "cell_type": "code",
   "execution_count": 76,
   "id": "78f81569",
   "metadata": {
    "cell_style": "split",
    "slideshow": {
     "slide_type": "fragment"
    }
   },
   "outputs": [],
   "source": [
    "let mut my_box = BoxSize(3.2,6.0,2.0);\n",
    "let mut p : Point2 = Point2(-1.3,2.1,0.0);"
   ]
  },
  {
   "cell_type": "code",
   "execution_count": 77,
   "id": "2924dfd9",
   "metadata": {
    "cell_style": "split",
    "slideshow": {
     "slide_type": "fragment"
    }
   },
   "outputs": [
    {
     "ename": "Error",
     "evalue": "mismatched types",
     "output_type": "error",
     "traceback": [
      "my_box = p;",
      "\u001b[91m         ^\u001b[0m \u001b[94mexpected struct `BoxSize`, found struct `Point2`\u001b[0m",
      "mismatched types"
     ]
    }
   ],
   "source": [
    "// won't work\n",
    "my_box = p;\n",
    "\n",
    "// Impossible to accidentally confuse different\n",
    "// types of triples.\n",
    "// No runtime penalty! Verified at compilation."
   ]
  },
  {
   "cell_type": "code",
   "execution_count": 78,
   "id": "dfadd7bd",
   "metadata": {
    "cell_style": "split",
    "slideshow": {
     "slide_type": "fragment"
    }
   },
   "outputs": [
    {
     "name": "stdout",
     "output_type": "stream",
     "text": [
      "-1.3 2.1 0\n",
      "17.2 2.1 0\n"
     ]
    }
   ],
   "source": [
    "// Acessing via index\n",
    "println!(\"{} {} {}\",p.0,p.1,p.2);\n",
    "p.0 = 17.2;\n",
    "\n",
    "// Destructuring\n",
    "let Point2(first,second,third) = p;\n",
    "println!(\"{} {} {}\", first, second, third);"
   ]
  },
  {
   "cell_type": "markdown",
   "id": "5183cbb8",
   "metadata": {
    "cell_style": "center",
    "slideshow": {
     "slide_type": "slide"
    }
   },
   "source": [
    "## Named structs in enums\n",
    "\n",
    "Structs with braces and exchangable with tuples in many places"
   ]
  },
  {
   "cell_type": "code",
   "execution_count": 79,
   "id": "b607dbc9",
   "metadata": {
    "cell_style": "split",
    "slideshow": {
     "slide_type": "-"
    }
   },
   "outputs": [],
   "source": [
    "enum LPSolution {\n",
    "    None,\n",
    "    Point{x:f64,y:f64}\n",
    "}\n",
    "\n",
    "let example = LPSolution::Point{x:1.2, y:4.2};"
   ]
  },
  {
   "cell_type": "code",
   "execution_count": 80,
   "id": "ed4a8686",
   "metadata": {
    "cell_style": "split",
    "slideshow": {
     "slide_type": "fragment"
    }
   },
   "outputs": [
    {
     "name": "stdout",
     "output_type": "stream",
     "text": [
      "coordinates: 1.2 4.2\n"
     ]
    }
   ],
   "source": [
    "if let LPSolution::Point{x:first,y:second} = example {\n",
    "    println!(\"coordinates: {} {}\", first, second);\n",
    "};"
   ]
  },
  {
   "cell_type": "markdown",
   "id": "b0bcdaf5",
   "metadata": {},
   "source": [
    "### Structs are critical to Rust's OO capabilities"
   ]
  },
  {
   "cell_type": "code",
   "execution_count": 81,
   "id": "5acb0f04",
   "metadata": {},
   "outputs": [
    {
     "name": "stdout",
     "output_type": "stream",
     "text": [
      "Rectangle perimeter: 14\n",
      "Rectangle area: 12\n"
     ]
    }
   ],
   "source": [
    "struct Point {\n",
    "    x: f64,\n",
    "    y: f64,\n",
    "}\n",
    "\n",
    "struct Rectangle {\n",
    "    p1: Point,\n",
    "    p2: Point,\n",
    "}\n",
    "\n",
    "impl Rectangle {\n",
    "    // This is a method\n",
    "    fn area(&self) -> f64 {\n",
    "        // `self` gives access to the struct fields via the dot operator\n",
    "        let Point { x: x1, y: y1 } = self.p1;\n",
    "        let Point { x: x2, y: y2 } = self.p2;\n",
    "\n",
    "        // `abs` is a `f64` method that returns the absolute value of the\n",
    "        // caller\n",
    "        ((x1 - x2) * (y1 - y2)).abs()\n",
    "    }\n",
    "\n",
    "    fn perimeter(&self) -> f64 {\n",
    "        let Point { x: x1, y: y1 } = self.p1;\n",
    "        let Point { x: x2, y: y2 } = self.p2;\n",
    "\n",
    "        2.0 * ((x1 - x2).abs() + (y1 - y2).abs())\n",
    "    }\n",
    "}\n",
    "\n",
    "let rectangle = Rectangle {\n",
    "    p1: Point{x:0.0, y:0.0},\n",
    "    p2: Point{x:3.0, y:4.0},\n",
    "};\n",
    "\n",
    "println!(\"Rectangle perimeter: {}\", rectangle.perimeter());\n",
    "println!(\"Rectangle area: {}\", rectangle.area());\n"
   ]
  },
  {
   "cell_type": "markdown",
   "id": "f39ac734",
   "metadata": {
    "slideshow": {
     "slide_type": "slide"
    }
   },
   "source": [
    "## Memory Management: Stack vs. Heap\n",
    "\n",
    "* Two different places where space for data can be allocated\n",
    "* We will discuss them one by one\n"
   ]
  },
  {
   "cell_type": "markdown",
   "id": "7dfb9282",
   "metadata": {
    "slideshow": {
     "slide_type": "slide"
    }
   },
   "source": [
    "## Stack"
   ]
  },
  {
   "cell_type": "markdown",
   "id": "5d428dfc",
   "metadata": {
    "cell_style": "split",
    "slideshow": {
     "slide_type": "fragment"
    }
   },
   "source": [
    "* LIFO (last in first out) memory allocation\n",
    "* Stores current local variables and additional information such as:\n",
    "  - function arguments\n",
    "  - function output\n",
    "  - where to continue when a function terminates\n",
    "* Fast memory allocation\n",
    "* Usually small fraction of the memory\n",
    "* Often: size of the allocated memory has to be known in advance (compilation time)"
   ]
  },
  {
   "cell_type": "markdown",
   "id": "a9113b4c",
   "metadata": {
    "cell_style": "split",
    "slideshow": {
     "slide_type": "fragment"
    }
   },
   "source": [
    "Almost everything you saw so far allocated on stack\n",
    "* Exception: data in `String` allocated on heap"
   ]
  },
  {
   "cell_type": "markdown",
   "id": "2e7ecb30",
   "metadata": {
    "slideshow": {
     "slide_type": "slide"
    }
   },
   "source": [
    "## Stack example (idealized)"
   ]
  },
  {
   "cell_type": "code",
   "execution_count": 82,
   "id": "ded1d369",
   "metadata": {
    "cell_style": "split",
    "slideshow": {
     "slide_type": "-"
    }
   },
   "outputs": [
    {
     "name": "stdout",
     "output_type": "stream",
     "text": [
      "x = 3, y = 8\n",
      "x = 8, y = 3\n"
     ]
    }
   ],
   "source": [
    "fn main() {\n",
    "    let mut x = 3;\n",
    "    let mut y = 8;\n",
    "    println!(\"x = {}, y = {}\",x,y);\n",
    "    x = add_or_subtract(x,y,true); // x = x + y\n",
    "    y = add_or_subtract(x,y,false); // y = x - y\n",
    "    x = add_or_subtract(x,y,false); // x = x - y\n",
    "    println!(\"x = {}, y = {}\",x,y);\n",
    "}\n",
    "\n",
    "fn add_or_subtract(x:i32, y:i32, add:bool) -> i32 {\n",
    "    let second_arg = if add {y} else {negate(y)};\n",
    "    x + second_arg\n",
    "}\n",
    "\n",
    "fn negate(x:i32) -> i32 {\n",
    "    -x\n",
    "}\n",
    "\n",
    "main();\n"
   ]
  },
  {
   "cell_type": "markdown",
   "id": "eba69b26",
   "metadata": {
    "cell_style": "split",
    "slideshow": {
     "slide_type": "fragment"
    }
   },
   "source": [
    "### Step 1: call `main`\n",
    "* `x` and `y` allocated on stack and initiated\n",
    "* Stack: `main` (`x`, `y`)"
   ]
  },
  {
   "cell_type": "markdown",
   "id": "6fc156f6",
   "metadata": {
    "cell_style": "split",
    "slideshow": {
     "slide_type": "fragment"
    }
   },
   "source": [
    "### Step 2: call `add_or_subtract` (1st time)\n",
    "* arguments for `add_or_subtract` put on stack\n",
    "* space for solution allocated on stack\n",
    "* space for `second_arg` allocated as well\n",
    "* Stack: `main` (`x`, `y`), `add_or_subtract` (all the above + auxiliary information)"
   ]
  },
  {
   "cell_type": "markdown",
   "id": "f5c2f8da",
   "metadata": {
    "slideshow": {
     "slide_type": "subslide"
    }
   },
   "source": [
    "## Stack example (idealized)"
   ]
  },
  {
   "cell_type": "code",
   "execution_count": 83,
   "id": "93a657e2",
   "metadata": {
    "cell_style": "split",
    "slideshow": {
     "slide_type": "-"
    }
   },
   "outputs": [
    {
     "name": "stdout",
     "output_type": "stream",
     "text": [
      "x = 3, y = 8\n",
      "x = 8, y = 3\n"
     ]
    }
   ],
   "source": [
    "fn main() {\n",
    "    let mut x = 3;\n",
    "    let mut y = 8;\n",
    "    println!(\"x = {}, y = {}\",x,y);\n",
    "    x = add_or_subtract(x,y,true);\n",
    "    y = add_or_subtract(x,y,false);\n",
    "    x = add_or_subtract(x,y,false);\n",
    "    println!(\"x = {}, y = {}\",x,y);\n",
    "}\n",
    "\n",
    "fn add_or_subtract(x:i32, y:i32, add:bool) -> i32 {\n",
    "    let second_arg = if add {y} else {negate(y)};\n",
    "    x + second_arg\n",
    "}\n",
    "\n",
    "fn negate(x:i32) -> i32 {\n",
    "    -x\n",
    "}\n",
    "\n",
    "main();\n"
   ]
  },
  {
   "cell_type": "markdown",
   "id": "aaaf0b48",
   "metadata": {
    "cell_style": "split",
    "slideshow": {
     "slide_type": "-"
    }
   },
   "source": [
    "### Step 3: `add_or_subtract` terminates\n",
    "* process and remove all information about the \n",
    "call\n",
    "* Stack: `main` (`x`, `y`)"
   ]
  },
  {
   "cell_type": "markdown",
   "id": "98ddf269",
   "metadata": {
    "cell_style": "split",
    "slideshow": {
     "slide_type": "fragment"
    }
   },
   "source": [
    "### Step 4: call `add_or_subtract` (2nd time)\n",
    "* arguments for `add_or_subtract` put on stack\n",
    "* space for solution allocated on stack\n",
    "* space for `second_arg` allocated as well\n",
    "* Stack: `main` (`x`, `y`), `add_or_subtract` (all the above + auxiliary information)"
   ]
  },
  {
   "cell_type": "markdown",
   "id": "82b43500",
   "metadata": {
    "slideshow": {
     "slide_type": "subslide"
    }
   },
   "source": [
    "## Stack example (idealized)"
   ]
  },
  {
   "cell_type": "code",
   "execution_count": 84,
   "id": "e6f9bd8e",
   "metadata": {
    "cell_style": "split",
    "slideshow": {
     "slide_type": "-"
    }
   },
   "outputs": [
    {
     "name": "stdout",
     "output_type": "stream",
     "text": [
      "x = 3, y = 8\n",
      "x = 8, y = 3\n"
     ]
    }
   ],
   "source": [
    "fn main() {\n",
    "    let mut x = 3;\n",
    "    let mut y = 8;\n",
    "    println!(\"x = {}, y = {}\",x,y);\n",
    "    x = add_or_subtract(x,y,true);\n",
    "    y = add_or_subtract(x,y,false);\n",
    "    x = add_or_subtract(x,y,false);\n",
    "    println!(\"x = {}, y = {}\",x,y);\n",
    "}\n",
    "\n",
    "fn add_or_subtract(x:i32, y:i32, add:bool) -> i32 {\n",
    "    let second_arg = if add {y} else {negate(y)};\n",
    "    x + second_arg\n",
    "}\n",
    "\n",
    "fn negate(x:i32) -> i32 {\n",
    "    -x\n",
    "}\n",
    "\n",
    "main();\n"
   ]
  },
  {
   "cell_type": "markdown",
   "id": "207972c0",
   "metadata": {
    "cell_style": "split",
    "slideshow": {
     "slide_type": "-"
    }
   },
   "source": [
    "### Step 5: call `negate` (1st time)\n",
    "* the argument for `negate` put on stack\n",
    "* space for solution allocated on stack\n",
    "* Stack: `main` (`x`, `y`), `add_or_subtract` (...), `negate` (all of the above + auxiliary information)"
   ]
  },
  {
   "cell_type": "markdown",
   "id": "c8a5ba47",
   "metadata": {
    "cell_style": "split",
    "slideshow": {
     "slide_type": "fragment"
    }
   },
   "source": [
    "### Step 6: `negate` terminates\n",
    "* process and remove all information about the \n",
    "call\n",
    "* Stack: `main` (`x`, `y`), `add_or_subtract` (...)"
   ]
  },
  {
   "cell_type": "markdown",
   "id": "533d0069",
   "metadata": {
    "slideshow": {
     "slide_type": "subslide"
    }
   },
   "source": [
    "## Stack example (idealized)"
   ]
  },
  {
   "cell_type": "code",
   "execution_count": 39,
   "id": "4c19faaa",
   "metadata": {
    "cell_style": "split",
    "slideshow": {
     "slide_type": "-"
    }
   },
   "outputs": [
    {
     "name": "stdout",
     "output_type": "stream",
     "text": [
      "x = 3, y = 8\n",
      "x = 8, y = 3\n"
     ]
    }
   ],
   "source": [
    "fn main() {\n",
    "    let mut x = 3;\n",
    "    let mut y = 8;\n",
    "    println!(\"x = {}, y = {}\",x,y);\n",
    "    x = add_or_subtract(x,y,true);\n",
    "    y = add_or_subtract(x,y,false);\n",
    "    x = add_or_subtract(x,y,false);\n",
    "    println!(\"x = {}, y = {}\",x,y);\n",
    "}\n",
    "\n",
    "fn add_or_subtract(x:i32, y:i32, add:bool) -> i32 {\n",
    "    let second_arg = if add {y} else {negate(y)};\n",
    "    x + second_arg\n",
    "}\n",
    "\n",
    "fn negate(x:i32) -> i32 {\n",
    "    -x\n",
    "}\n",
    "\n",
    "main();\n",
    "\n"
   ]
  },
  {
   "cell_type": "markdown",
   "id": "1b78b644",
   "metadata": {
    "cell_style": "split",
    "slideshow": {
     "slide_type": "-"
    }
   },
   "source": [
    "### Step 7: `add_or_subtract` terminates\n",
    "* [...]\n",
    "* Stack: `main` (`x`, `y`)"
   ]
  },
  {
   "cell_type": "markdown",
   "id": "98bbc6c1",
   "metadata": {
    "cell_style": "split",
    "slideshow": {
     "slide_type": "fragment"
    }
   },
   "source": [
    "### Step 8: call `add_or_subtract` (3rd time)\n",
    "* [...]\n",
    "* Stack: `main` (`x`, `y`), `add_or_subtract` (...)"
   ]
  },
  {
   "cell_type": "markdown",
   "id": "086c422e",
   "metadata": {
    "cell_style": "split",
    "slideshow": {
     "slide_type": "fragment"
    }
   },
   "source": [
    "<div align=\"center\">\n",
    "    <h1>...</h1>\n",
    "</div>"
   ]
  },
  {
   "cell_type": "markdown",
   "id": "74f016a3",
   "metadata": {
    "slideshow": {
     "slide_type": "slide"
    }
   },
   "source": [
    "## Limited space on stack!"
   ]
  },
  {
   "cell_type": "code",
   "execution_count": 85,
   "id": "7827cccd",
   "metadata": {
    "slideshow": {
     "slide_type": "-"
    }
   },
   "outputs": [],
   "source": [
    "\n",
    "fn same_number(x:u32) -> u32 {\n",
    "    match x {\n",
    "        0 => 0,\n",
    "        _ => 1 + same_number(x - 1),\n",
    "    }\n",
    "}"
   ]
  },
  {
   "cell_type": "code",
   "execution_count": 86,
   "id": "908996bb",
   "metadata": {
    "slideshow": {
     "slide_type": "fragment"
    }
   },
   "outputs": [
    {
     "data": {
      "text/plain": [
       "7"
      ]
     },
     "execution_count": 86,
     "metadata": {},
     "output_type": "execute_result"
    }
   ],
   "source": [
    "same_number(7)"
   ]
  },
  {
   "cell_type": "code",
   "execution_count": 87,
   "id": "7d423770",
   "metadata": {
    "slideshow": {
     "slide_type": "fragment"
    }
   },
   "outputs": [
    {
     "data": {
      "text/plain": [
       "123456"
      ]
     },
     "execution_count": 87,
     "metadata": {},
     "output_type": "execute_result"
    }
   ],
   "source": [
    "same_number(123_456)"
   ]
  },
  {
   "cell_type": "code",
   "execution_count": 88,
   "id": "86e6de06",
   "metadata": {
    "slideshow": {
     "slide_type": "fragment"
    }
   },
   "outputs": [
    {
     "ename": "Error",
     "evalue": "Subprocess terminated with status: signal: 11 (SIGSEGV)",
     "output_type": "error",
     "traceback": [
      "Subprocess terminated with status: signal: 11 (SIGSEGV)"
     ]
    }
   ],
   "source": [
    "same_number(1_000_000)"
   ]
  },
  {
   "cell_type": "markdown",
   "id": "6837b1f8",
   "metadata": {
    "slideshow": {
     "slide_type": "subslide"
    }
   },
   "source": [
    "## Using too much memory on stack: *stack overflow*"
   ]
  },
  {
   "cell_type": "markdown",
   "id": "ffe03f20",
   "metadata": {
    "cell_style": "center",
    "slideshow": {
     "slide_type": "fragment"
    }
   },
   "source": [
    "This is where the name of the popular webpage for asking questions about programming comes from!<br>\n",
    "\n",
    "<div align=\"center\">\n",
    "    <img src=\"chucknorris.png\" alt=\"[screenshot of stackoverflow.com]\">\n",
    "</div>"
   ]
  },
  {
   "cell_type": "markdown",
   "id": "da8ef96b",
   "metadata": {
    "cell_style": "center",
    "slideshow": {
     "slide_type": "slide"
    }
   },
   "source": [
    "## Heap"
   ]
  },
  {
   "cell_type": "markdown",
   "id": "b8494a5d",
   "metadata": {
    "cell_style": "split",
    "slideshow": {
     "slide_type": "-"
    }
   },
   "source": [
    "* Memory allocated and freed in arbitrary order\n",
    "* Arbitrary amount allocated\n",
    "* The application knows a *pointer*${}={}$the address of assigned memory\n",
    "\n",
    "<div align=\"center\">\n",
    "<b>Pros and cons?</b>\n",
    "</div>"
   ]
  },
  {
   "cell_type": "markdown",
   "id": "1117101b",
   "metadata": {
    "cell_style": "split",
    "slideshow": {
     "slide_type": "fragment"
    }
   },
   "source": [
    "Pros:\n",
    "* Arbitrary amount of data\n",
    "* No copying to pass data around\n",
    "  * Just share the pointer!\n",
    "\n",
    "\n",
    "Cons:\n",
    "* Slower allocation:\n",
    "  * Possible request for more space to the operating system\n",
    "* Possible memory fragmentation\n",
    "* Slower access:\n",
    "  * Have to follow the pointer to get to data\n"
   ]
  },
  {
   "cell_type": "markdown",
   "id": "7132e1f3",
   "metadata": {
    "slideshow": {
     "slide_type": "slide"
    }
   },
   "source": [
    "## Stack vs. heap in Python\n",
    "\n",
    "* Elementary pieces of data allocated on stack: integers, floats, Boolean values, ...\n",
    "\n",
    "* Anything else allocated on the heap"
   ]
  },
  {
   "cell_type": "markdown",
   "id": "15a07bc5",
   "metadata": {
    "cell_style": "center",
    "slideshow": {
     "slide_type": "fragment"
    }
   },
   "source": [
    "<br><br>\n",
    "<div align=\"center\">\n",
    "    <h2>[Switch to the Python notebook]</h2>\n",
    "</div>"
   ]
  },
  {
   "cell_type": "markdown",
   "id": "050d6973",
   "metadata": {
    "slideshow": {
     "slide_type": "slide"
    }
   },
   "source": [
    "## Bonus content: stack overflow?"
   ]
  },
  {
   "cell_type": "code",
   "execution_count": 89,
   "id": "396cc739",
   "metadata": {
    "cell_style": "center",
    "slideshow": {
     "slide_type": "fragment"
    }
   },
   "outputs": [],
   "source": [
    "fn same_number_2(x:u64) -> u64 {\n",
    "    fn same_number_aux(y:u64, accumulate:u64) -> u64 {\n",
    "        match y {\n",
    "            0 => accumulate,\n",
    "            _ => same_number_aux(\n",
    "                y - 1,\n",
    "                accumulate + 1),\n",
    "        }\n",
    "    }\n",
    "    return same_number_aux(x,0);\n",
    "}"
   ]
  },
  {
   "cell_type": "code",
   "execution_count": 90,
   "id": "27e8114a",
   "metadata": {
    "slideshow": {
     "slide_type": "fragment"
    }
   },
   "outputs": [
    {
     "data": {
      "text/plain": [
       "1234"
      ]
     },
     "execution_count": 90,
     "metadata": {},
     "output_type": "execute_result"
    }
   ],
   "source": [
    "same_number_2(1234)"
   ]
  },
  {
   "cell_type": "code",
   "execution_count": 91,
   "id": "09f99e3d",
   "metadata": {
    "slideshow": {
     "slide_type": "fragment"
    }
   },
   "outputs": [
    {
     "data": {
      "text/plain": [
       "1000000000"
      ]
     },
     "execution_count": 91,
     "metadata": {},
     "output_type": "execute_result"
    }
   ],
   "source": [
    "same_number_2(1_000_000_000)"
   ]
  },
  {
   "cell_type": "markdown",
   "id": "decbb447",
   "metadata": {},
   "source": [
    "### Memory ownership semantics"
   ]
  },
  {
   "cell_type": "code",
   "execution_count": 3,
   "id": "67a38773",
   "metadata": {},
   "outputs": [
    {
     "ename": "Error",
     "evalue": "use of moved value: `s`",
     "output_type": "error",
     "traceback": [
      "let s2 = s;",
      "\u001b[91m         ^\u001b[0m \u001b[94mvalue moved here\u001b[0m",
      "let s3 = s;",
      "\u001b[91m         ^\u001b[0m \u001b[94mvalue used here after move\u001b[0m",
      "let mut s = String::from(\"hello\");",
      "\u001b[91m    ^^^^^\u001b[0m \u001b[94mmove occurs because `s` has type `String`, which does not implement the `Copy` trait\u001b[0m",
      "use of moved value: `s`",
      "\u001b[1mhelp\u001b[0m: consider cloning the value if the performance cost is acceptable\n\n.clone()"
     ]
    }
   ],
   "source": [
    "let mut s = String::from(\"hello\");\n",
    "s.push_str(\", world!\"); \n",
    "println!(\"{}\", s);\n",
    "let s2 = s;\n",
    "println!(\"{}\", s2);\n",
    "let s3 = s;"
   ]
  },
  {
   "cell_type": "markdown",
   "id": "9e55abfc",
   "metadata": {},
   "source": [
    "$\\bullet$ **No stack overflow!** Why? Look up **tail call** and **tail recursion**.<br>\n",
    "$\\bullet$ Not guaranteed in Rust, but sometimes works."
   ]
  }
 ],
 "metadata": {
  "celltoolbar": "Slideshow",
  "kernelspec": {
   "display_name": "Rust",
   "language": "rust",
   "name": "rust"
  },
  "language_info": {
   "codemirror_mode": "rust",
   "file_extension": ".rs",
   "mimetype": "text/rust",
   "name": "Rust",
   "pygment_lexer": "rust",
   "version": ""
  },
  "rise": {
   "theme": "beige",
   "transition": "fade"
  }
 },
 "nbformat": 4,
 "nbformat_minor": 5
}
