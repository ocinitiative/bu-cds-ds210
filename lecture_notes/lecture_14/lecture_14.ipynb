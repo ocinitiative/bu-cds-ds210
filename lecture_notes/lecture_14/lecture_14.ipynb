{
  "cells": [
    {
      "cell_type": "markdown",
      "id": "bc3806d5",
      "metadata": {
        "cell_style": "center",
        "id": "bc3806d5"
      },
      "source": [
        "# DS-210: Programming for Data Science\n",
        "\n",
        "\n",
        "# Lecture 14: Overview of programming languages.\n"
      ]
    },
    {
      "cell_type": "markdown",
      "id": "857703d8",
      "metadata": {
        "id": "857703d8"
      },
      "source": [
        "## Various levels"
      ]
    },
    {
      "cell_type": "markdown",
      "id": "b4f784fc",
      "metadata": {
        "cell_style": "split",
        "id": "b4f784fc"
      },
      "source": [
        "* Native code\n",
        "\n",
        "* Assembler\n",
        "  - pros: as fine control as in native code\n",
        "  - cons: not portable\n"
      ]
    },
    {
      "cell_type": "markdown",
      "id": "1241bd8d",
      "metadata": {
        "cell_style": "split",
        "id": "1241bd8d"
      },
      "source": [
        "* High level\n",
        "  - various levels of closeness to the architecture: from C to Prolog\n",
        "  - efficiency:\n",
        "    - varies\n",
        "    - could optimize better\n",
        "  - pros:\n",
        "    - very portable\n",
        "    - easier to build large projects\n",
        "  - cons:\n",
        "    - some languages are resource–inefficient"
      ]
    },
    {
      "cell_type": "markdown",
      "id": "80a9012f",
      "metadata": {
        "id": "80a9012f"
      },
      "source": [
        "## Interpreted vs. compiled"
      ]
    },
    {
      "cell_type": "markdown",
      "id": "edfd4420",
      "metadata": {
        "cell_style": "split",
        "id": "edfd4420"
      },
      "source": [
        "Interpreted:\n",
        "* An application (*interpreter*) reads commands one by one and executes them.\n",
        "* One step process to run an application:\n",
        "  - `python hello.py`"
      ]
    },
    {
      "cell_type": "markdown",
      "id": "99e1982c",
      "metadata": {
        "cell_style": "split",
        "id": "99e1982c"
      },
      "source": [
        "(\"Fully\") Compiled:\n",
        " * Translated to native code by *compiler*\n",
        " * Usually more efficient\n",
        " * Two steps to execute:\n",
        "   1. Compile (Rust: `rustc hello.rs`)\n",
        "   2. Run (Rust: `./hello`)\n",
        "   \n",
        "Compiled to intermediate format:\n",
        " * Example: Java\n",
        "   - Portable intermediate format\n",
        "   - Needs another application, Java virtual machine, that knows how to interpret it\n",
        "   \n",
        "JIT is an interesting wrinkle in that it can take interpreted and intermediate format languages and compile them down to machine code."
      ]
    },
    {
      "cell_type": "markdown",
      "id": "3a7900f7",
      "metadata": {
        "id": "3a7900f7"
      },
      "source": [
        "## Type checking: static vs. dynamic"
      ]
    },
    {
      "cell_type": "markdown",
      "id": "74ca4c85",
      "metadata": {
        "cell_style": "split",
        "id": "74ca4c85"
      },
      "source": [
        "Dynamic (e.g., Python):\n",
        "* checks if an object can be used for specific operation during runtime\n",
        "* pros:\n",
        "  - don't have to specify the type of object\n",
        "  - procedures can work for various types\n",
        "  - faster or no compilation\n",
        "* cons:\n",
        "  - slower at runtime\n",
        "  - problems are detected late\n",
        "\n"
      ]
    },
    {
      "cell_type": "code",
      "execution_count": null,
      "id": "b00cacbe",
      "metadata": {
        "cell_style": "split",
        "id": "b00cacbe",
        "outputId": "07fee9f6-a507-41cb-b7a4-894f9eedee69"
      },
      "outputs": [
        {
          "name": "stdout",
          "output_type": "stream",
          "text": [
            "4\n",
            "ab\n"
          ]
        }
      ],
      "source": [
        "def add(x,y):\n",
        "    return x + y\n",
        "\n",
        "print(add(2,2))\n",
        "print(add(\"a\",\"b\"))\n",
        "# print(add(2,\"b\"))"
      ]
    },
    {
      "cell_type": "code",
      "execution_count": null,
      "id": "2a0acfc6",
      "metadata": {
        "cell_style": "split",
        "id": "2a0acfc6",
        "outputId": "b1ecd4c3-7e9e-44e6-ac9e-0642200c1607"
      },
      "outputs": [
        {
          "name": "stdout",
          "output_type": "stream",
          "text": [
            "4\n",
            "abcd\n"
          ]
        }
      ],
      "source": [
        "import typing\n",
        "def add(x:str, y:str) -> str:\n",
        "    return x + y\n",
        "print(add(2,2))\n",
        "print(add(\"ab\", \"cd\"))\n",
        "# print(add(2,\"n\"))"
      ]
    },
    {
      "cell_type": "markdown",
      "id": "f26c4f9d",
      "metadata": {
        "cell_style": "split",
        "id": "f26c4f9d"
      },
      "source": [
        "* Use mypy as a type checker before running your programs  \n",
        "* `pip3 install mypy`"
      ]
    },
    {
      "cell_type": "markdown",
      "id": "55a37ae9",
      "metadata": {
        "id": "55a37ae9"
      },
      "source": [
        "## Type checking: static vs. dynamic"
      ]
    },
    {
      "cell_type": "markdown",
      "id": "bd8f682a",
      "metadata": {
        "cell_style": "split",
        "id": "bd8f682a"
      },
      "source": [
        "Static (e.g, C++, Rust, OCaml, Java):\n",
        "* checks if types of objects are as desired\n",
        "* pros:\n",
        "  - faster at runtime\n",
        "  - type mismatch detected early\n",
        "* cons:\n",
        "  - often need to be explicit with the type\n",
        "  - making procedures generic may be difficult\n",
        "  - potentially slower compilation\n",
        "\n"
      ]
    },
    {
      "cell_type": "markdown",
      "id": "bc3f57cf",
      "metadata": {
        "cell_style": "split",
        "id": "bc3f57cf"
      },
      "source": [
        "C++:\n",
        "```C++\n",
        "int add(int x, int y) {\n",
        "    return x + y;\n",
        "}\n",
        "```\n",
        "\n",
        "Rust:\n",
        "```rust\n",
        "fn add(x:i32, y:i32) -> i32 {\n",
        "    x + y\n",
        "}\n",
        "```"
      ]
    },
    {
      "cell_type": "markdown",
      "id": "ce57418c",
      "metadata": {
        "id": "ce57418c"
      },
      "source": [
        "## Type checking: static vs. dynamic"
      ]
    },
    {
      "cell_type": "markdown",
      "id": "2e62c3cf",
      "metadata": {
        "id": "2e62c3cf"
      },
      "source": [
        "**Note:** some languages are smart and you don't have to always specify types (e.g., OCaml, Rust)\n",
        "\n",
        "Rust:\n",
        "```rust\n",
        "let x : i32 = 7;\n",
        "let y = 3;\n",
        "let z = x * y;\n",
        "```"
      ]
    },
    {
      "cell_type": "markdown",
      "id": "92d2b137",
      "metadata": {
        "id": "92d2b137"
      },
      "source": [
        "## Various programming paradigms\n",
        "* Imperative\n",
        "* Functional\n",
        "* Object-oriented\n",
        "* Declarative / programming in logic"
      ]
    },
    {
      "cell_type": "markdown",
      "source": [
        "**Python: Imperative Language**"
      ],
      "metadata": {
        "id": "XOf54J5KE3xr"
      },
      "id": "XOf54J5KE3xr"
    },
    {
      "cell_type": "markdown",
      "id": "22534844",
      "metadata": {
        "id": "22534844"
      },
      "source": [
        "```\n",
        "def factorial(N):\n",
        "    ret = 1\n",
        "    for i in range(N):\n",
        "        ret = ret * i\n",
        "    return ret\n",
        "```"
      ]
    },
    {
      "cell_type": "markdown",
      "source": [
        "**Functional Language**"
      ],
      "metadata": {
        "id": "VpYznce4E-My"
      },
      "id": "VpYznce4E-My"
    },
    {
      "cell_type": "markdown",
      "id": "78dc87bd",
      "metadata": {
        "id": "78dc87bd"
      },
      "source": [
        "```\n",
        "(define (factorial n) (cond ((= n 0) 1) \n",
        "                            (t (* n (factorial (- n 1)))))) \n",
        "```"
      ]
    },
    {
      "cell_type": "markdown",
      "source": [
        "**Object-oriented Language**"
      ],
      "metadata": {
        "id": "p-NHB1EyFC4d"
      },
      "id": "p-NHB1EyFC4d"
    },
    {
      "cell_type": "markdown",
      "id": "34367933",
      "metadata": {
        "id": "34367933"
      },
      "source": [
        "```\n",
        "class Factorial {\n",
        "   private:\n",
        "     int64 value;\n",
        "   public:\n",
        "     int64 factorial(int input) {\n",
        "        int64 temp = 1;\n",
        "        for(int i=1; i<=input; i++) {\n",
        "            temp = temp * i;\n",
        "        }\n",
        "        value = temp\n",
        "     }\n",
        "     int64 get_factorial() {\n",
        "        return value;\n",
        "     }\n",
        "}\n",
        "```"
      ]
    },
    {
      "cell_type": "markdown",
      "source": [
        "**Declarative / programming in logic**"
      ],
      "metadata": {
        "id": "hyYW4EZBFphF"
      },
      "id": "hyYW4EZBFphF"
    },
    {
      "cell_type": "markdown",
      "id": "16819e99",
      "metadata": {
        "id": "16819e99"
      },
      "source": [
        "```\n",
        "factorial(0,1).\n",
        "factorial(N,M) :-\n",
        "N>0,\n",
        "N1 is N-1,\n",
        "factorial(N1, M1),\n",
        "M is N*M1.\n",
        "```"
      ]
    },
    {
      "cell_type": "markdown",
      "id": "d2e69fed",
      "metadata": {
        "id": "d2e69fed"
      },
      "source": [
        "## Memory management: manual vs. garbage collection"
      ]
    },
    {
      "cell_type": "markdown",
      "id": "7b34f595",
      "metadata": {
        "cell_style": "split",
        "id": "7b34f595"
      },
      "source": [
        "Manual:\n",
        "* Need to ask for memory and return it, more explicitly\n",
        "* pros:\n",
        "  - more efficient\n",
        "  - better in real–time applications\n",
        "* cons:\n",
        "  - more work for the programmer\n",
        "  - more prone to errors"
      ]
    },
    {
      "cell_type": "markdown",
      "id": "7863973c",
      "metadata": {
        "cell_style": "split",
        "id": "7863973c"
      },
      "source": [
        "Garbage collection:\n",
        "* Memory freed automatically\n",
        "* pros:\n",
        "  - less work for the programmer\n",
        "  - more difficult to make mistakes\n",
        "* cons:\n",
        "  - less efficient\n",
        "  - can lead to sudden slowdowns"
      ]
    },
    {
      "cell_type": "markdown",
      "id": "10710c06",
      "metadata": {
        "cell_style": "center",
        "id": "10710c06"
      },
      "source": [
        "Rust has many features to avoid memory management errors"
      ]
    },
    {
      "cell_type": "markdown",
      "id": "829f4407",
      "metadata": {
        "id": "829f4407"
      },
      "source": [
        "## Rust\n",
        "\n",
        "* high–level\n",
        "\n",
        "* compiled\n",
        "\n",
        "* static type checking\n",
        "\n",
        "* <b> manual memory management </b>"
      ]
    },
    {
      "cell_type": "markdown",
      "id": "aadf8a88",
      "metadata": {
        "id": "aadf8a88"
      },
      "source": [
        "## Most important difference between Python and Rust?"
      ]
    },
    {
      "cell_type": "markdown",
      "id": "c66415a9",
      "metadata": {
        "id": "c66415a9"
      },
      "source": [
        "<div align=\"center\">\n",
        "    <h3>Braces, <tt>{  }</tt>, for code formatting!</h3>\n",
        "    😃😃😃\n",
        "</div>"
      ]
    },
    {
      "cell_type": "markdown",
      "id": "2058bff8",
      "metadata": {
        "cell_style": "split",
        "id": "2058bff8"
      },
      "source": [
        "* How do we denote blocks of code?\n",
        "\n",
        "  - Python: indentation\n",
        "  - Rust: `{...}`"
      ]
    },
    {
      "cell_type": "markdown",
      "id": "4b3d057e",
      "metadata": {
        "cell_style": "split",
        "id": "4b3d057e"
      },
      "source": [
        "```rust\n",
        "fn hi() {\n",
        "    println!(\"Hello!\");\n",
        "    println!(\"How are you?\");\n",
        "}\n",
        "```"
      ]
    },
    {
      "cell_type": "markdown",
      "id": "d4f97044",
      "metadata": {
        "id": "d4f97044"
      },
      "source": [
        "* Don't be afraid of braces!!! You'll encounter them in C, C++, Java, Javascript, PHP, Rust, ..."
      ]
    },
    {
      "cell_type": "markdown",
      "id": "a0deaec4",
      "metadata": {
        "id": "a0deaec4"
      },
      "source": [
        "## Structure of an executable\n",
        "\n",
        "![image.png](attachment:image.png)"
      ]
    },
    {
      "cell_type": "markdown",
      "id": "3125059c",
      "metadata": {
        "id": "3125059c"
      },
      "source": [
        "## An example of terrible unsafe programming in C\n",
        "```\n",
        "#include <signal.h>\n",
        "#include <stdio.h>\n",
        "#include <string.h>\n",
        "#include <stdlib.h>\n",
        "int main(){\n",
        "    char loop_bool[20];\n",
        "    char secretString[20];\n",
        "    char givenString[20];\n",
        "    char x;\n",
        "    int i, ret;\n",
        "\n",
        "    memset(&loop_bool, 0, 20);\n",
        "    for (i=0;i<19;i++) {\n",
        "      x = 'a' + random() % 26; \n",
        "      secretString[i] = x;\n",
        "    }\n",
        "    printf(\"secretString: %s\\n\", secretString);\n",
        "    while (!loop_bool[0]) { \n",
        "        gets(givenString);\n",
        "        ret = strncmp(secretString, givenString, 20);\n",
        "        if (0 == ret) {\n",
        "            printf(\"SUCCESS!\\n\");\n",
        "\t    break;\n",
        "\t}else if (ret < 0){\n",
        "\t    printf(\"LESS!\\n\");\n",
        "\t} else {\n",
        "\t    printf(\"MORE!\\n\");\n",
        "        }\n",
        "        printf(\"secretString: %s\\n\", secretString);\n",
        "    }\n",
        "    printf(\"secretString: %s\\n\", secretString);\n",
        "    printf(\"givenString: %s\\n\", givenString);\n",
        "    return 0;\n",
        "}\n",
        "```"
      ]
    },
    {
      "cell_type": "markdown",
      "id": "55cbf8a4",
      "metadata": {
        "id": "55cbf8a4"
      },
      "source": [
        "## Homework 4\n",
        "* Part 3\n",
        " * Make sure your function range is $[0,1]\\rightarrow[0,1]$\n",
        " * Seeing the difference should be visible in the graph\n",
        " * You can also introduce noise in your training set\n",
        "* Part 4\n",
        " * Hint: Generate data using a function and try to fit different degree polynomials to it."
      ]
    },
    {
      "cell_type": "code",
      "execution_count": null,
      "id": "ea2dede1",
      "metadata": {
        "id": "ea2dede1"
      },
      "outputs": [],
      "source": []
    }
  ],
  "metadata": {
    "celltoolbar": "Slideshow",
    "kernelspec": {
      "display_name": "Python 3 (ipykernel)",
      "language": "python",
      "name": "python3"
    },
    "language_info": {
      "codemirror_mode": {
        "name": "ipython",
        "version": 3
      },
      "file_extension": ".py",
      "mimetype": "text/x-python",
      "name": "python",
      "nbconvert_exporter": "python",
      "pygments_lexer": "ipython3",
      "version": "3.9.13"
    },
    "rise": {
      "enable_chalkboard": true,
      "theme": "serif"
    },
    "colab": {
      "provenance": []
    }
  },
  "nbformat": 4,
  "nbformat_minor": 5
}