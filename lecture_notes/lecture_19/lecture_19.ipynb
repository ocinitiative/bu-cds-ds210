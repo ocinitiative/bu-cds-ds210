{
 "cells": [
  {
   "cell_type": "markdown",
   "id": "cf7f87e3",
   "metadata": {
    "slideshow": {
     "slide_type": "slide"
    }
   },
   "source": [
    "<div align=\"center\">\n",
    "    <h1>DS-210: Programming for Data Science</h1>\n",
    "    <h1>Lecture 19</h1>\n",
    "</div>\n",
    "\n",
    "\n",
    "# 1. Heap: Dangers of manual memory management\n",
    "# 2. Ownership and borrowing in Rust\n",
    "# 3. Methods in Rust\n"
   ]
  },
  {
   "cell_type": "markdown",
   "id": "34769022",
   "metadata": {
    "slideshow": {
     "slide_type": "slide"
    }
   },
   "source": [
    "## Last time\n",
    "\n",
    "* Possible data locations: stack and heap\n",
    "* Mostly focused on the stack"
   ]
  },
  {
   "cell_type": "markdown",
   "id": "96c8f302",
   "metadata": {
    "slideshow": {
     "slide_type": "slide"
    }
   },
   "source": [
    "## Heap management"
   ]
  },
  {
   "cell_type": "markdown",
   "id": "b623e297",
   "metadata": {
    "cell_style": "split"
   },
   "source": [
    "**Memory allocation:**\n",
    "* ask for a given amount of space \n",
    "* receives a pointer to it<br> (or an out of memory error)\n",
    "\n",
    "**Freeing memory:**\n",
    "* classical manual: explicitly return it\n",
    "  * more complicated\n",
    "* automatic: garbage collection\n",
    "  * comes with additional costs\n",
    "\n",
    "\n",
    "\n",
    "C: `malloc` / `free`\n",
    "\n",
    "C++: `new` / `delete` + C"
   ]
  },
  {
   "cell_type": "markdown",
   "id": "7e985d60",
   "metadata": {
    "cell_style": "split",
    "slideshow": {
     "slide_type": "fragment"
    }
   },
   "source": [
    "**Pitfalls of manual memory management:**"
   ]
  },
  {
   "cell_type": "markdown",
   "id": "9e381781",
   "metadata": {
    "cell_style": "split",
    "slideshow": {
     "slide_type": "fragment"
    }
   },
   "source": [
    " * leaks: unused memory never returned"
   ]
  },
  {
   "cell_type": "markdown",
   "id": "dc3944ae",
   "metadata": {
    "cell_style": "split",
    "slideshow": {
     "slide_type": "fragment"
    }
   },
   "source": [
    " * attempting to use a pointer to memory that was deallocated"
   ]
  },
  {
   "cell_type": "markdown",
   "id": "9f44d969",
   "metadata": {
    "cell_style": "split",
    "slideshow": {
     "slide_type": "fragment"
    }
   },
   "source": [
    " * returning memory that was already deallocated"
   ]
  },
  {
   "cell_type": "markdown",
   "id": "5d609dbd",
   "metadata": {
    "cell_style": "split",
    "slideshow": {
     "slide_type": "fragment"
    }
   },
   "source": [
    "<div align=\"center\">\n",
    "    <b>How does Rust deal with these problems?</b>\n",
    "</div>"
   ]
  },
  {
   "cell_type": "markdown",
   "id": "85bada40",
   "metadata": {
    "slideshow": {
     "slide_type": "slide"
    }
   },
   "source": [
    "## Allocating on the heap in Rust\n",
    "\n",
    "* Various methods. The simplest via `Box::new(...)`"
   ]
  },
  {
   "cell_type": "code",
   "execution_count": 55,
   "id": "7e7e35a7",
   "metadata": {
    "slideshow": {
     "slide_type": "-"
    }
   },
   "outputs": [],
   "source": [
    "// placing integers on the heap\n",
    "let mut pointer = Box::new(2000);\n",
    "let pointer2 : Box<i32> = Box::new(22);"
   ]
  },
  {
   "cell_type": "code",
   "execution_count": 56,
   "id": "e1adedb6",
   "metadata": {
    "slideshow": {
     "slide_type": "fragment"
    }
   },
   "outputs": [
    {
     "name": "stdout",
     "output_type": "stream",
     "text": [
      "vals: 2000 22\n",
      "vals: 2000 22\n",
      "vals: 2000 22\n",
      "sum: 2022\n"
     ]
    }
   ],
   "source": [
    "// accessing data via a * operator\n",
    "println!(\"vals: {} {}\", *pointer, *pointer2);\n",
    "println!(\"vals: {} {}\", pointer, pointer2);\n",
    "println!(\"vals: {} {}\", &pointer, &pointer2);\n",
    "println!(\"sum: {}\", *pointer + *pointer2);\n",
    "// println!(\"sum: {}\", pointer + pointer2);\n"
   ]
  },
  {
   "cell_type": "code",
   "execution_count": 57,
   "id": "bef4232d",
   "metadata": {
    "slideshow": {
     "slide_type": "fragment"
    }
   },
   "outputs": [
    {
     "name": "stdout",
     "output_type": "stream",
     "text": [
      "sum: 3022\n"
     ]
    }
   ],
   "source": [
    "*pointer = 3000;\n",
    "println!(\"sum: {}\", *pointer + *pointer2);"
   ]
  },
  {
   "cell_type": "code",
   "execution_count": 58,
   "id": "8da14fc7",
   "metadata": {},
   "outputs": [
    {
     "ename": "Error",
     "evalue": "cannot assign to `*pointer2`, as `pointer2` is not declared as mutable",
     "output_type": "error",
     "traceback": [
      "*pointer2 = 23;",
      "\u001b[91m^^^^^^^^^^^^^^\u001b[0m \u001b[94mcannot assign\u001b[0m",
      "cannot assign to `*pointer2`, as `pointer2` is not declared as mutable",
      "\u001b[1mhelp\u001b[0m: consider changing this to be mutable\n\nmut pointer2"
     ]
    }
   ],
   "source": [
    "*pointer2 = 23;\n",
    "println!(\"sum: {}\", *pointer + *pointer2);"
   ]
  },
  {
   "cell_type": "code",
   "execution_count": 61,
   "id": "8495805b",
   "metadata": {},
   "outputs": [
    {
     "ename": "Error",
     "evalue": "borrow of moved value: `pointer`",
     "output_type": "error",
     "traceback": [
      "let z = drop(pointer);",
      "\u001b[91m             ^^^^^^^\u001b[0m \u001b[94mvalue moved here\u001b[0m",
      "println!(\"{:?}\", pointer);",
      "\u001b[91m                 ^^^^^^^\u001b[0m \u001b[94mvalue borrowed here after move\u001b[0m",
      "borrow of moved value: `pointer`"
     ]
    }
   ],
   "source": [
    "println!(\"{}\", pointer);\n",
    "let z = drop(pointer);\n",
    "println!(\"{:?}\", z);\n",
    "println!(\"{:?}\", pointer);"
   ]
  },
  {
   "cell_type": "markdown",
   "id": "e05b0c57",
   "metadata": {
    "slideshow": {
     "slide_type": "slide"
    }
   },
   "source": [
    "## Experiment with passing the pointer around"
   ]
  },
  {
   "cell_type": "code",
   "execution_count": 62,
   "id": "670e70fa",
   "metadata": {
    "cell_style": "split"
   },
   "outputs": [
    {
     "name": "stdout",
     "output_type": "stream",
     "text": [
      "content: 123\n",
      "content: 123\n",
      "content: 123\n"
     ]
    }
   ],
   "source": [
    "fn print_content(pointer:Box<i32>) {\n",
    "    println!(\"content: {}\", *pointer)\n",
    "}\n",
    "\n",
    "fn print_value(val: i32){\n",
    "    println!(\"content: {}\", val)\n",
    "}\n",
    "\n",
    "let p = Box::new(123);\n",
    "print_value(*p);\n",
    "print_value(*p);\n",
    "print_content(p); "
   ]
  },
  {
   "cell_type": "code",
   "execution_count": 63,
   "id": "78cf0afc",
   "metadata": {
    "cell_style": "split",
    "slideshow": {
     "slide_type": "fragment"
    }
   },
   "outputs": [
    {
     "ename": "Error",
     "evalue": "use of moved value: `q`",
     "output_type": "error",
     "traceback": [
      "print_content(q);",
      "\u001b[91m              ^\u001b[0m \u001b[94mvalue moved here\u001b[0m",
      "print_content(q);",
      "\u001b[91m              ^\u001b[0m \u001b[94mvalue used here after move\u001b[0m",
      "let q = Box::new(321);",
      "\u001b[91m    ^\u001b[0m \u001b[94mmove occurs because `q` has type `Box<i32>`, which does not implement the `Copy` trait\u001b[0m",
      "use of moved value: `q`"
     ]
    }
   ],
   "source": [
    "let q = Box::new(321);\n",
    "\n",
    "print_content(q);\n",
    "print_content(q);"
   ]
  },
  {
   "cell_type": "markdown",
   "id": "a0ea3c1c",
   "metadata": {
    "slideshow": {
     "slide_type": "slide"
    }
   },
   "source": [
    "## What happened: Ownership\n",
    "\n",
    "* Each value in Rust has a variable that is its **owner**\n",
    "* Only **one** owner\n",
    "* When the owner goes out of scope, the value is dropped"
   ]
  },
  {
   "cell_type": "code",
   "execution_count": 64,
   "id": "97460dbc",
   "metadata": {
    "cell_style": "split",
    "slideshow": {
     "slide_type": "fragment"
    }
   },
   "outputs": [
    {
     "ename": "Error",
     "evalue": "use of moved value: `q`",
     "output_type": "error",
     "traceback": [
      "print_content(q);",
      "\u001b[91m              ^\u001b[0m \u001b[94mvalue moved here\u001b[0m",
      "print_content(q);",
      "\u001b[91m              ^\u001b[0m \u001b[94mvalue used here after move\u001b[0m",
      "let q = Box::new(321);",
      "\u001b[91m    ^\u001b[0m \u001b[94mmove occurs because `q` has type `Box<i32>`, which does not implement the `Copy` trait\u001b[0m",
      "use of moved value: `q`"
     ]
    }
   ],
   "source": [
    "fn print_content(pointer:Box<i32>) {\n",
    "    println!(\"content: {}\", *pointer)\n",
    "}\n",
    "\n",
    "let q = Box::new(321);\n",
    "\n",
    "print_content(q);\n",
    "print_content(q);"
   ]
  },
  {
   "cell_type": "markdown",
   "id": "b0f80ec8",
   "metadata": {
    "cell_style": "split"
   },
   "source": [
    "* First call to `print_content`: `Box::new(321)` is **moved** from `q` to `pointer`\n",
    "* (if it compiled) at the end of `print_content`:\n",
    "  * `Box::new(321)` would be dropped\n",
    "  * its space on the heap deallocated"
   ]
  },
  {
   "cell_type": "markdown",
   "id": "708474b3",
   "metadata": {
    "cell_style": "split",
    "slideshow": {
     "slide_type": "fragment"
    }
   },
   "source": [
    "Second call can't proceed: **the content of `q` is gone**"
   ]
  },
  {
   "cell_type": "markdown",
   "id": "1abd4d0c",
   "metadata": {
    "slideshow": {
     "slide_type": "subslide"
    }
   },
   "source": [
    "## More examples of ownership"
   ]
  },
  {
   "cell_type": "code",
   "execution_count": 65,
   "id": "23161e4a",
   "metadata": {
    "cell_style": "split"
   },
   "outputs": [
    {
     "ename": "Error",
     "evalue": "borrow of moved value: `x`",
     "output_type": "error",
     "traceback": [
      "let y = x;",
      "\u001b[91m        ^\u001b[0m \u001b[94mvalue moved here\u001b[0m",
      "println!(\"x = {}\",*x);",
      "\u001b[91m                  ^^\u001b[0m \u001b[94mvalue borrowed here after move\u001b[0m",
      "let x = Box::new(123);",
      "\u001b[91m    ^\u001b[0m \u001b[94mmove occurs because `x` has type `Box<i32>`, which does not implement the `Copy` trait\u001b[0m",
      "borrow of moved value: `x`"
     ]
    }
   ],
   "source": [
    "// won't work, value moved as well\n",
    "let x = Box::new(123);\n",
    "println!(\"x = {}\",*x);\n",
    "let y = x;\n",
    "println!(\"x = {}\",*x);"
   ]
  },
  {
   "cell_type": "markdown",
   "id": "8413e8ff",
   "metadata": {
    "cell_style": "split",
    "slideshow": {
     "slide_type": "fragment"
    }
   },
   "source": [
    "Fix our previous example by returning the pointer"
   ]
  },
  {
   "cell_type": "code",
   "execution_count": 66,
   "id": "41aec259",
   "metadata": {
    "cell_style": "split",
    "slideshow": {
     "slide_type": "-"
    }
   },
   "outputs": [
    {
     "name": "stdout",
     "output_type": "stream",
     "text": [
      "content: 321\n",
      "content: 321\n",
      "content: 321\n"
     ]
    }
   ],
   "source": [
    "fn print_content(pointer:Box<i32>) -> Box<i32> {\n",
    "    println!(\"content: {}\", *pointer);\n",
    "    pointer\n",
    "}\n",
    "\n",
    "let q = Box::new(321);\n",
    "\n",
    "let q = print_content(q);\n",
    "let q = print_content(q);\n",
    "let q = print_content(q);"
   ]
  },
  {
   "cell_type": "markdown",
   "id": "f15a231a",
   "metadata": {
    "slideshow": {
     "slide_type": "slide"
    }
   },
   "source": [
    "## Avoiding moving values a lot: borrowing"
   ]
  },
  {
   "cell_type": "code",
   "execution_count": 67,
   "id": "8f8e74a0",
   "metadata": {
    "cell_style": "split"
   },
   "outputs": [
    {
     "name": "stdout",
     "output_type": "stream",
     "text": [
      "25\n"
     ]
    }
   ],
   "source": [
    "#[derive(Debug)]\n",
    "struct Road {\n",
    "    intersection_1: u32,\n",
    "    intersection_2: u32,\n",
    "    max_speed: u32,\n",
    "}\n",
    "\n",
    "// adding a function in the namespace of Road\n",
    "impl Road {\n",
    "    // very useful constructor\n",
    "    fn new(i1:u32,i2:u32,speed:u32) -> Road {\n",
    "        Road {\n",
    "            intersection_1: i1,\n",
    "            intersection_2: i2,\n",
    "            max_speed: speed,\n",
    "        }\n",
    "    }\n",
    "}\n",
    "\n",
    "let road = Road::new(13,23,25);\n",
    "println!(\"{}\",road.max_speed);"
   ]
  },
  {
   "cell_type": "code",
   "execution_count": 68,
   "id": "be09e761",
   "metadata": {
    "cell_style": "split",
    "slideshow": {
     "slide_type": "fragment"
    }
   },
   "outputs": [
    {
     "ename": "Error",
     "evalue": "borrow of moved value: `road`",
     "output_type": "error",
     "traceback": [
      "let another = road;",
      "\u001b[91m              ^^^^\u001b[0m \u001b[94mvalue moved here\u001b[0m",
      "println!(\"{}\",road.max_speed);",
      "\u001b[91m              ^^^^^^^^^^^^^^\u001b[0m \u001b[94mvalue borrowed here after move\u001b[0m",
      "borrow of moved value: `road`"
     ]
    }
   ],
   "source": [
    "// checking whether it moves\n",
    "let another = road;\n",
    "println!(\"{}\",road.max_speed);"
   ]
  },
  {
   "cell_type": "code",
   "execution_count": 69,
   "id": "40231ef7",
   "metadata": {
    "cell_style": "split",
    "slideshow": {
     "slide_type": "fragment"
    }
   },
   "outputs": [
    {
     "name": "stdout",
     "output_type": "stream",
     "text": [
      "Road { intersection_1: 101, intersection_2: 102, max_speed: 30 }\n"
     ]
    }
   ],
   "source": [
    "fn display_1(r:Road) {\n",
    "    println!(\"{:?}\",r);\n",
    "}\n",
    "\n",
    "let road = Road::new(101,102,30);\n",
    "display_1(road);\n",
    "// Uncomment this one to see ownership behavior\n",
    "// display_1(road);  "
   ]
  },
  {
   "cell_type": "code",
   "execution_count": 70,
   "id": "c74a0548",
   "metadata": {},
   "outputs": [
    {
     "name": "stdout",
     "output_type": "stream",
     "text": [
      "Road { intersection_1: 101, intersection_2: 102, max_speed: 30 }\n",
      "Road { intersection_1: 101, intersection_2: 102, max_speed: 30 }\n"
     ]
    }
   ],
   "source": [
    "// This one works due to returning the value\n",
    "fn display_1(r:Road) -> Road {\n",
    "    println!(\"{:?}\",r);\n",
    "    r\n",
    "}\n",
    "\n",
    "let mut road = Road::new(101,102,30);\n",
    "road = display_1(road);\n",
    "road = display_1(road);"
   ]
  },
  {
   "cell_type": "markdown",
   "id": "1267d158",
   "metadata": {
    "slideshow": {
     "slide_type": "slide"
    }
   },
   "source": [
    "## Avoiding moving values a lot: borrowing\n",
    "\n",
    "Read–only reference:\n",
    "* Reference type becomes `&Type`\n",
    "* To create: `&value`\n",
    "* To access content: `*reference`"
   ]
  },
  {
   "cell_type": "code",
   "execution_count": 76,
   "id": "09397d1a",
   "metadata": {
    "cell_style": "center",
    "slideshow": {
     "slide_type": "fragment"
    }
   },
   "outputs": [
    {
     "name": "stdout",
     "output_type": "stream",
     "text": [
      "Road { intersection_1: 101, intersection_2: 102, max_speed: 30 }\n",
      "Road { intersection_1: 101, intersection_2: 102, max_speed: 30 }\n",
      "Road { intersection_1: 101, intersection_2: 102, max_speed: 30 }\n",
      "Road { intersection_1: 101, intersection_2: 102, max_speed: 30 }\n",
      "Road { intersection_1: 101, intersection_2: 102, max_speed: 30 }\n",
      "Road { intersection_1: 101, intersection_2: 102, max_speed: 30 }\n"
     ]
    }
   ],
   "source": [
    "fn display_2(r:&Road) {\n",
    "    println!(\"{:?}\", *r); // This is the right one\n",
    "    println!(\"{:?}\", r); // In this case the compiler does the conversion for you but it may not work all times.\n",
    "    println!(\"{:?}\", &r); // Ditto here.\n",
    "}\n",
    "\n",
    "let road = Road::new(101,102,30);\n",
    "display_2(&road); // <- have to explicitly create a reference\n",
    "display_2(&road);"
   ]
  },
  {
   "cell_type": "markdown",
   "id": "68260a5e",
   "metadata": {
    "slideshow": {
     "slide_type": "slide"
    }
   },
   "source": [
    "## Avoiding moving values a lot: borrowing\n",
    "Mutable reference:\n",
    "* Reference type becomes `&mut Type`\n",
    "* To create: `&mut value`\n",
    "* To access content: `*reference`\n"
   ]
  },
  {
   "cell_type": "code",
   "execution_count": 72,
   "id": "d09c69a8",
   "metadata": {
    "cell_style": "split"
   },
   "outputs": [
    {
     "ename": "Error",
     "evalue": "cannot assign to `r.max_speed`, which is behind a `&` reference",
     "output_type": "error",
     "traceback": [
      "    r.max_speed = new_speed;",
      "\u001b[91m    ^^^^^^^^^^^^^^^^^^^^^^^\u001b[0m \u001b[94m`r` is a `&` reference, so the data it refers to cannot be written\u001b[0m",
      "cannot assign to `r.max_speed`, which is behind a `&` reference",
      "\u001b[1mhelp\u001b[0m: consider changing this to be a mutable reference\n\n&mut Road"
     ]
    }
   ],
   "source": [
    "// regular references won't work\n",
    "fn update_speed(r:&Road, new_speed: u32) {\n",
    "    // r.max_speed equivalent to (*r).max_speed\n",
    "    // because Rust is smart\n",
    "    r.max_speed = new_speed;\n",
    "} "
   ]
  },
  {
   "cell_type": "code",
   "execution_count": 73,
   "id": "5e20d8d3",
   "metadata": {
    "cell_style": "split",
    "slideshow": {
     "slide_type": "fragment"
    }
   },
   "outputs": [],
   "source": [
    "fn update_speed(r:&mut Road, new_speed: u32) {\n",
    "    // r.max_speed equivalent to (*r).max_speed\n",
    "    // because Rust is smart\n",
    "    r.max_speed = new_speed;\n",
    "} "
   ]
  },
  {
   "cell_type": "code",
   "execution_count": 74,
   "id": "cd3a4130",
   "metadata": {
    "cell_style": "split",
    "slideshow": {
     "slide_type": "fragment"
    }
   },
   "outputs": [
    {
     "name": "stdout",
     "output_type": "stream",
     "text": [
      "Road { intersection_1: 100, intersection_2: 200, max_speed: 30 }\n",
      "Road { intersection_1: 100, intersection_2: 200, max_speed: 25 }\n"
     ]
    }
   ],
   "source": [
    "let mut road = Road::new(100,200,30);\n",
    "display_2(&road);\n",
    "update_speed(&mut road, 25);\n",
    "display_2(&road);"
   ]
  },
  {
   "cell_type": "markdown",
   "id": "45d85c16",
   "metadata": {
    "cell_style": "center",
    "slideshow": {
     "slide_type": "slide"
    }
   },
   "source": [
    "## Methods\n"
   ]
  },
  {
   "cell_type": "markdown",
   "id": "8c8f0cea",
   "metadata": {
    "cell_style": "split",
    "slideshow": {
     "slide_type": "-"
    }
   },
   "source": [
    "* We can add functions that are directly associated with structs and enums!\n",
    "  * Then we could call them: `road.display()` or `road.update_speed(25)`\n",
    "* How?\n",
    "  * Put them in the namespace of the type\n",
    "  * make `self` the first argument"
   ]
  },
  {
   "cell_type": "code",
   "execution_count": 16,
   "id": "8d0555ec",
   "metadata": {
    "cell_style": "split",
    "slideshow": {
     "slide_type": "fragment"
    }
   },
   "outputs": [],
   "source": [
    "impl Road {\n",
    "    \n",
    "    // note &self: immutable reference\n",
    "    fn display(&self) {\n",
    "        println!(\"{:?}\",*self);\n",
    "    }\n",
    "}"
   ]
  },
  {
   "cell_type": "code",
   "execution_count": 18,
   "id": "fb529867",
   "metadata": {
    "cell_style": "split",
    "slideshow": {
     "slide_type": "fragment"
    }
   },
   "outputs": [
    {
     "name": "stdout",
     "output_type": "stream",
     "text": [
      "Road { intersection_1: 1, intersection_2: 2, max_speed: 35 }\n",
      "Road { intersection_1: 1, intersection_2: 2, max_speed: 35 }\n",
      "Road { intersection_1: 1, intersection_2: 2, max_speed: 35 }\n"
     ]
    }
   ],
   "source": [
    "let mut road = Road::new(1,2,35);\n",
    "road.display();\n",
    "&road.display();\n",
    "(&road).display();"
   ]
  },
  {
   "cell_type": "markdown",
   "id": "d40eace8",
   "metadata": {
    "slideshow": {
     "slide_type": "subslide"
    }
   },
   "source": [
    "## Methods (continued)"
   ]
  },
  {
   "cell_type": "code",
   "execution_count": 19,
   "id": "24cb28d1",
   "metadata": {
    "cell_style": "split"
   },
   "outputs": [],
   "source": [
    "impl Road {\n",
    "    fn update_speed(&mut self, new_speed:u32) {\n",
    "        self.max_speed = new_speed;\n",
    "    }\n",
    "}"
   ]
  },
  {
   "cell_type": "code",
   "execution_count": 20,
   "id": "e8f6fe6d",
   "metadata": {
    "cell_style": "split",
    "slideshow": {
     "slide_type": "fragment"
    }
   },
   "outputs": [
    {
     "name": "stdout",
     "output_type": "stream",
     "text": [
      "Road { intersection_1: 1, intersection_2: 2, max_speed: 35 }\n",
      "Road { intersection_1: 1, intersection_2: 2, max_speed: 25 }\n"
     ]
    }
   ],
   "source": [
    "road.display();\n",
    "road.update_speed(25);\n",
    "road.display();"
   ]
  },
  {
   "cell_type": "code",
   "execution_count": 23,
   "id": "2d3ea800",
   "metadata": {
    "cell_style": "split",
    "slideshow": {
     "slide_type": "fragment"
    }
   },
   "outputs": [],
   "source": [
    "impl Road {\n",
    "    \n",
    "    fn this_will_move(self) -> Road {\n",
    "        self\n",
    "    }\n",
    "    \n",
    "    fn this_will_not_move(&self) -> &Road {\n",
    "        self\n",
    "    }\n",
    "}"
   ]
  },
  {
   "cell_type": "code",
   "execution_count": 26,
   "id": "fdbf1598",
   "metadata": {
    "cell_style": "split",
    "slideshow": {
     "slide_type": "fragment"
    }
   },
   "outputs": [
    {
     "name": "stdout",
     "output_type": "stream",
     "text": [
      "Road { intersection_1: 1, intersection_2: 2, max_speed: 35 }\n",
      "Road { intersection_1: 1, intersection_2: 2, max_speed: 35 }\n"
     ]
    }
   ],
   "source": [
    "fn testme() {\n",
    "  let r = Road::new(1,2,35);\n",
    "  let r3 = r.this_will_not_move();\n",
    "  // let r2 = r.this_will_move();\n",
    "  r.display();\n",
    "  r3.display();\n",
    "}\n",
    "testme();"
   ]
  },
  {
   "cell_type": "markdown",
   "id": "6a08f926",
   "metadata": {
    "cell_style": "split",
    "slideshow": {
     "slide_type": "subslide"
    }
   },
   "source": [
    "## Methods (summary)\n",
    "\n",
    "* Make first parameter `self`\n",
    "* Various options:\n",
    "  - `self`: move will occur\n",
    "  - `&self`: self will be immutable reference\n",
    "  - `&mut self`: self will be mutable reference"
   ]
  },
  {
   "cell_type": "markdown",
   "id": "27b32edf",
   "metadata": {},
   "source": [
    "## A few more pointer types"
   ]
  },
  {
   "cell_type": "code",
   "execution_count": 45,
   "id": "65ccd435",
   "metadata": {},
   "outputs": [
    {
     "name": "stdout",
     "output_type": "stream",
     "text": [
      "sum: 34\n",
      "Box Vals 10 22 \n",
      "Ref Vals 10 10 \n"
     ]
    }
   ],
   "source": [
    "// A few more pointer types for future reference\n",
    "\n",
    "use std::rc::Rc;\n",
    "use std::cell::RefCell;\n",
    "\n",
    "// A reference counted pointer.  Behaves like a box pointer in this example\n",
    "let mut pointer = Rc::new(12);\n",
    "let pointer2 : Rc<i32> = Rc::new(22);\n",
    "println!(\"sum: {}\", *pointer + *pointer2);\n",
    "\n",
    "// But as we saw you can assigned box pointers to each other without clone\n",
    "let mut pointer = Box::new(10);\n",
    "let mut pointer2 = pointer.clone();\n",
    "*pointer2 = 22;\n",
    "println!(\"Box Vals {} {} \", *pointer, *pointer2);\n",
    "\n",
    "\n",
    "// But Rc pointers with refcells allow for this, \n",
    "// though you have to tell the compiler a lot of information to allow it\n",
    "let mut pointer = Rc::new(RefCell::new(10));\n",
    "let mut pointer2 = Rc::new(Rc::clone(&pointer));\n",
    "*rpointer.borrow_mut() = 22;\n",
    "println!(\"Ref Vals {} {} \", *pointer.borrow(), *pointer2.borrow());"
   ]
  },
  {
   "cell_type": "markdown",
   "id": "98281f8a",
   "metadata": {
    "cell_style": "split"
   },
   "source": [
    "## Next time\n",
    "\n",
    "Additional topics related to what was covered today:\n",
    "* Specifying type to be always copied\n",
    "* Having multiple references at the same time"
   ]
  },
  {
   "cell_type": "markdown",
   "id": "aedc528b",
   "metadata": {},
   "source": [
    "## Read chapter 4"
   ]
  },
  {
   "cell_type": "code",
   "execution_count": null,
   "id": "d4b8b96f",
   "metadata": {},
   "outputs": [],
   "source": []
  }
 ],
 "metadata": {
  "celltoolbar": "Slideshow",
  "kernelspec": {
   "display_name": "Rust",
   "language": "rust",
   "name": "rust"
  },
  "language_info": {
   "codemirror_mode": "rust",
   "file_extension": ".rs",
   "mimetype": "text/rust",
   "name": "Rust",
   "pygment_lexer": "rust",
   "version": ""
  },
  "rise": {
   "theme": "beige",
   "transition": "fade"
  }
 },
 "nbformat": 4,
 "nbformat_minor": 5
}
