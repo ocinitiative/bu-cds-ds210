{
 "cells": [
  {
   "cell_type": "markdown",
   "id": "cf7f87e3",
   "metadata": {
    "slideshow": {
     "slide_type": "slide"
    }
   },
   "source": [
    "<div align=\"center\">\n",
    "    <h1>DS-210: Programming for Data Science</h1>\n",
    "    <h1>Lecture 17</h1>\n",
    "</div>\n",
    "\n",
    "\n",
    "# Rust: Flow control (continued).  Tuples and Enums and some special cases."
   ]
  },
  {
   "cell_type": "markdown",
   "id": "4fef2b94",
   "metadata": {
    "slideshow": {
     "slide_type": "subslide"
    }
   },
   "source": [
    "## Infinite loop: `loop`\n",
    "```rust\n",
    "loop {\n",
    "    // DO SOMETHING HERE\n",
    "}\n",
    "```\n",
    "\n",
    "Need to use `break` to jump out of the loop!"
   ]
  },
  {
   "cell_type": "code",
   "execution_count": 2,
   "id": "ef884f0c",
   "metadata": {
    "cell_style": "split"
   },
   "outputs": [
    {
     "data": {
      "text/plain": [
       "15"
      ]
     },
     "execution_count": 2,
     "metadata": {},
     "output_type": "execute_result"
    }
   ],
   "source": [
    "let mut x = 1;\n",
    "loop {\n",
    "    if (x + 1) * (x + 1) >= 250 {break;}\n",
    "    x += 1;\n",
    "}\n",
    "x"
   ]
  },
  {
   "cell_type": "markdown",
   "id": "4fe2ed7d",
   "metadata": {
    "cell_style": "split",
    "slideshow": {
     "slide_type": "fragment"
    }
   },
   "source": [
    "* `loop` can return a value!\n",
    "* `break` can act like `return`"
   ]
  },
  {
   "cell_type": "code",
   "execution_count": 3,
   "id": "2a55d04a",
   "metadata": {
    "cell_style": "split"
   },
   "outputs": [
    {
     "data": {
      "text/plain": [
       "15"
      ]
     },
     "execution_count": 3,
     "metadata": {},
     "output_type": "execute_result"
    }
   ],
   "source": [
    "let mut x = 1;\n",
    "let x = loop {\n",
    "    if x * x >= 250 {break x - 1;}\n",
    "    x += 1;\n",
    "};\n",
    "x"
   ]
  },
  {
   "cell_type": "markdown",
   "id": "4c3c000e",
   "metadata": {
    "slideshow": {
     "slide_type": "slide"
    }
   },
   "source": [
    "## Advanced `break` and `continue`"
   ]
  },
  {
   "cell_type": "markdown",
   "id": "af868f35",
   "metadata": {
    "cell_style": "split"
   },
   "source": [
    "* work in all loops\n",
    "* `break`: terminate the execution\n",
    "  * can return a value in `loop`\n",
    "* `continue`: terminate this iteration and jump to the next one\n",
    "  * in `while`, the condition will be checked\n",
    "  * in `for`, there may be no next iteration\n",
    "  * `break` and `continue` can use labels"
   ]
  },
  {
   "cell_type": "code",
   "execution_count": 9,
   "id": "4f394991",
   "metadata": {
    "cell_style": "split",
    "slideshow": {
     "slide_type": "fragment"
    }
   },
   "outputs": [
    {
     "name": "stdout",
     "output_type": "stream",
     "text": [
      "3\n",
      "6\n",
      "9\n"
     ]
    }
   ],
   "source": [
    "// Simple loop demo\n",
    "\n",
    "for i in 1..=10 {\n",
    "    if i % 3 != 0 {\n",
    "        continue;\n",
    "    }\n",
    "    println!(\"{}\",i);\n",
    "};\n"
   ]
  },
  {
   "cell_type": "code",
   "execution_count": 11,
   "id": "c81bcbc4",
   "metadata": {
    "cell_style": "split"
   },
   "outputs": [
    {
     "name": "stdout",
     "output_type": "stream",
     "text": [
      "Hi outer loop\n",
      "Hi inner loop\n",
      "Hi outer loop\n",
      "Hi inner loop\n",
      "In the middle\n",
      "X is 3\n",
      "Hi inner loop\n",
      "Hi outer loop\n",
      "Hi inner loop\n",
      "Hi outer loop\n",
      "Hi inner loop\n",
      "In the middle\n",
      "X is 6\n",
      "Hi inner loop\n",
      "Hi outer loop\n",
      "Hi inner loop\n",
      "Hi outer loop\n",
      "Hi inner loop\n",
      "In the middle\n",
      "X is 9\n",
      "Hi inner loop\n",
      "Hi outer loop\n",
      "Hi inner loop\n",
      "Hi outer loop\n",
      "Hi inner loop\n",
      "In the middle\n",
      "Managed to escape! :-) with x 12\n"
     ]
    }
   ],
   "source": [
    "let mut x = 1;\n",
    "'outer_loop: loop {\n",
    "    println!(\"Hi outer loop\");\n",
    "    'inner_loop: loop {\n",
    "        println!(\"Hi inner loop\");\n",
    "        x = x + 1;\n",
    "        if x % 3 != 0 {\n",
    "            continue 'outer_loop;\n",
    "        }\n",
    "        println!(\"In the middle\");\n",
    "        if x >= 10 {\n",
    "            break 'outer_loop;\n",
    "        }\n",
    "        println!(\"X is {}\", x);\n",
    "    }\n",
    "    println!(\"In the end\");\n",
    "};\n",
    "println!(\"Managed to escape! :-) with x {}\", x);\n"
   ]
  },
  {
   "cell_type": "code",
   "execution_count": 12,
   "id": "d617905d",
   "metadata": {
    "cell_style": "split"
   },
   "outputs": [
    {
     "name": "stdout",
     "output_type": "stream",
     "text": [
      "Hi outer loop\n",
      "Hi inner loop\n",
      "In the end\n",
      "Hi outer loop\n",
      "Hi inner loop\n",
      "In the middle\n",
      "X is 3\n",
      "Hi inner loop\n",
      "In the end\n",
      "Hi outer loop\n",
      "Hi inner loop\n",
      "In the end\n",
      "Hi outer loop\n",
      "Hi inner loop\n",
      "In the middle\n",
      "X is 6\n",
      "Hi inner loop\n",
      "In the end\n",
      "Hi outer loop\n",
      "Hi inner loop\n",
      "Hi outer loop\n",
      "Hi inner loop\n",
      "In the middle\n",
      "X is 9\n",
      "In the end\n",
      "Hi inner loop\n",
      "In the end\n",
      "Hi outer loop\n",
      "Hi inner loop\n",
      "In the end\n",
      "Hi outer loop\n",
      "In the middle\n",
      "Hi inner loop\n",
      "Managed to escape! :-) with x 12\n"
     ]
    }
   ],
   "source": [
    "let mut x = 1;\n",
    "'outer_loop: loop {\n",
    "    println!(\"Hi outer loop\");\n",
    "    'inner_loop: loop {\n",
    "        println!(\"Hi inner loop\");\n",
    "        x = x + 1;\n",
    "        if x % 3 != 0 {\n",
    "            break 'inner_loop;\n",
    "        }\n",
    "        println!(\"In the middle\");\n",
    "        if x >= 10 {\n",
    "            break 'outer_loop;\n",
    "        }\n",
    "        println!(\"X is {}\", x);\n",
    "    }\n",
    "    println!(\"In the end\");\n",
    "};\n",
    "println!(\"Managed to escape! :-) with x {}\", x);\n"
   ]
  },
  {
   "cell_type": "code",
   "execution_count": 23,
   "id": "ba3875da",
   "metadata": {
    "cell_style": "center",
    "slideshow": {
     "slide_type": "fragment"
    }
   },
   "outputs": [
    {
     "name": "stdout",
     "output_type": "stream",
     "text": [
      "1234\n"
     ]
    }
   ],
   "source": [
    "let x = 'outer_loop: loop {\n",
    "    loop { break 'outer_loop 1234;}\n",
    "};\n",
    "println!(\"{}\",x);"
   ]
  },
  {
   "cell_type": "markdown",
   "id": "0b910d50",
   "metadata": {
    "slideshow": {
     "slide_type": "slide"
    }
   },
   "source": [
    "## Tuples\n"
   ]
  },
  {
   "cell_type": "markdown",
   "id": "d04d22d2",
   "metadata": {
    "cell_style": "split"
   },
   "source": [
    "* Syntax: `(value_1,value_2,value_3)`\n",
    "* Type: `(type_1,type_2,type_3)`"
   ]
  },
  {
   "cell_type": "code",
   "execution_count": 10,
   "id": "84e2d7ce",
   "metadata": {
    "cell_style": "split"
   },
   "outputs": [],
   "source": [
    "let mut tuple = (1,1.1);\n",
    "\n",
    "let another = (\"abc\",\"def\",\"ghi\");\n",
    "\n",
    "let yet_another: (u8,u32) = (255,4_000_000_000);"
   ]
  },
  {
   "cell_type": "markdown",
   "id": "6e669993",
   "metadata": {
    "slideshow": {
     "slide_type": "fragment"
    }
   },
   "source": [
    " "
   ]
  },
  {
   "cell_type": "markdown",
   "id": "96532b6e",
   "metadata": {
    "cell_style": "split",
    "slideshow": {
     "slide_type": "-"
    }
   },
   "source": [
    "<div align=\"right\">\n",
    "Accessing elements via index (0 based):\n",
    "</div>"
   ]
  },
  {
   "cell_type": "code",
   "execution_count": 11,
   "id": "55105c36",
   "metadata": {
    "cell_style": "split"
   },
   "outputs": [
    {
     "name": "stdout",
     "output_type": "stream",
     "text": [
      "(1, 1.1)\n",
      "(2, 1.1)\n",
      "Tuple is (2, 1.1)\n"
     ]
    }
   ],
   "source": [
    "println!(\"({}, {})\",tuple.0,tuple.1);\n",
    "tuple.0 = 2;\n",
    "println!(\"({}, {})\",tuple.0,tuple.1);\n",
    "println!(\"Tuple is {:?}\", tuple);"
   ]
  },
  {
   "cell_type": "markdown",
   "id": "d676d67e",
   "metadata": {
    "cell_style": "split",
    "slideshow": {
     "slide_type": "-"
    }
   },
   "source": [
    "<div align=\"right\">\n",
    "Accessing via matching:\n",
    "</div>"
   ]
  },
  {
   "cell_type": "code",
   "execution_count": 12,
   "id": "d6da56a5",
   "metadata": {
    "cell_style": "split"
   },
   "outputs": [
    {
     "name": "stdout",
     "output_type": "stream",
     "text": [
      "(2,1.1)\n"
     ]
    }
   ],
   "source": [
    "let (integer,float) = tuple;\n",
    "println!(\"({},{})\",integer,float);"
   ]
  },
  {
   "cell_type": "markdown",
   "id": "bc6ec6e2",
   "metadata": {
    "slideshow": {
     "slide_type": "slide"
    }
   },
   "source": [
    "## Enums\n",
    "\n",
    "* Data type allowing for capturing a small set of options\n"
   ]
  },
  {
   "cell_type": "code",
   "execution_count": 2,
   "id": "ba866aff",
   "metadata": {
    "cell_style": "split"
   },
   "outputs": [],
   "source": [
    "enum Direction {\n",
    "    North,\n",
    "    East,\n",
    "    South,\n",
    "    West,\n",
    "}\n",
    "\n",
    "let dir = Direction::North;\n",
    "let dir_2: Direction = Direction::South;"
   ]
  },
  {
   "cell_type": "code",
   "execution_count": 3,
   "id": "99e0d169",
   "metadata": {
    "cell_style": "split",
    "slideshow": {
     "slide_type": "fragment"
    }
   },
   "outputs": [],
   "source": [
    "// Avoiding specifying \"Direction::\"\n",
    "use Direction::East;\n",
    "let dir_3 = East;"
   ]
  },
  {
   "cell_type": "code",
   "execution_count": 4,
   "id": "0b064663",
   "metadata": {
    "cell_style": "split",
    "slideshow": {
     "slide_type": "fragment"
    }
   },
   "outputs": [],
   "source": [
    "// Bringing two options into the current scope\n",
    "use Direction::{East,West};\n",
    "let dir_3 = West;"
   ]
  },
  {
   "cell_type": "code",
   "execution_count": 7,
   "id": "5ea0a496",
   "metadata": {
    "cell_style": "split",
    "slideshow": {
     "slide_type": "fragment"
    }
   },
   "outputs": [],
   "source": [
    "// Bringing all options in\n",
    "use Direction::*;\n",
    "let dir_4 = South;"
   ]
  },
  {
   "cell_type": "markdown",
   "id": "0d92f941",
   "metadata": {
    "slideshow": {
     "slide_type": "subslide"
    }
   },
   "source": [
    "## Enums\n",
    "\n",
    "* Each option can come with additional information"
   ]
  },
  {
   "cell_type": "code",
   "execution_count": 20,
   "id": "f6af6ca0",
   "metadata": {
    "cell_style": "split"
   },
   "outputs": [
    {
     "name": "stdout",
     "output_type": "stream",
     "text": [
      "the result is 3\n",
      "The result is Ok(1)\n"
     ]
    }
   ],
   "source": [
    "#[derive(Debug)]\n",
    "enum DivisionResult {\n",
    "    Ok(u32),\n",
    "    DivisionByZero,\n",
    "}\n",
    "\n",
    "fn divide(x:u32, y:u32) -> DivisionResult {\n",
    "    if y == 0 {\n",
    "        return DivisionResult::DivisionByZero;\n",
    "    } else {\n",
    "        return DivisionResult::Ok(x / y);\n",
    "    }\n",
    "}\n",
    "\n",
    "let (a,b) = (9,3);\n",
    "match divide(a,b) {\n",
    "    DivisionResult::Ok(result)\n",
    "        => println!(\"the result is {}\",result),\n",
    "    DivisionResult::DivisionByZero\n",
    "        => println!(\"noooooo!!!!\"),\n",
    "};\n",
    "\n",
    "let z = divide(5, 4);\n",
    "println!(\"The result is {:?}\", z);"
   ]
  },
  {
   "cell_type": "code",
   "execution_count": 15,
   "id": "b986e870",
   "metadata": {
    "cell_style": "split",
    "slideshow": {
     "slide_type": "fragment"
    }
   },
   "outputs": [
    {
     "name": "stdout",
     "output_type": "stream",
     "text": [
      "the result is 3\n",
      "the reminder is 0\n"
     ]
    }
   ],
   "source": [
    "enum DivisionResult {\n",
    "    Ok(u32,u32),\n",
    "    DivisionByZero,\n",
    "}\n",
    "\n",
    "fn divide(x:u32, y:u32) -> DivisionResult {\n",
    "    if y == 0 {\n",
    "        DivisionResult::DivisionByZero\n",
    "    } else {\n",
    "        DivisionResult::Ok(x / y, x % y)\n",
    "    }\n",
    "}\n",
    "\n",
    "let (a,b) = (9,3);\n",
    "match divide(a,b) {\n",
    "    DivisionResult::Ok(result,reminder) => {\n",
    "            println!(\"the result is {}\",result);\n",
    "            println!(\"the reminder is {}\",reminder);\n",
    "    }\n",
    "    DivisionResult::DivisionByZero\n",
    "        => println!(\"noooooo!!!!\"),\n",
    "};"
   ]
  },
  {
   "cell_type": "markdown",
   "id": "3928b0ae",
   "metadata": {
    "slideshow": {
     "slide_type": "subslide"
    }
   },
   "source": [
    "## Displaying enums\n",
    "By default Rust doesn't know how to display it"
   ]
  },
  {
   "cell_type": "code",
   "execution_count": 21,
   "id": "dd68a24e",
   "metadata": {
    "cell_style": "split"
   },
   "outputs": [
    {
     "ename": "Error",
     "evalue": "`Direction` doesn't implement `Debug`",
     "output_type": "error",
     "traceback": [
      "println!(\"{:?}\",dir);",
      "\u001b[91m                ^^^\u001b[0m \u001b[94m`Direction` cannot be formatted using `{:?}`\u001b[0m",
      "`Direction` doesn't implement `Debug`",
      "\u001b[1mhelp\u001b[0m: the trait `Debug` is not implemented for `Direction`",
      "\u001b[1mhelp\u001b[0m: consider annotating `Direction` with `#[derive(Debug)]`\n\n#[derive(Debug)]"
     ]
    }
   ],
   "source": [
    "println!(\"{:?}\",dir);"
   ]
  },
  {
   "cell_type": "code",
   "execution_count": 22,
   "id": "70feac20",
   "metadata": {
    "cell_style": "split",
    "slideshow": {
     "slide_type": "fragment"
    }
   },
   "outputs": [
    {
     "ename": "Error",
     "evalue": "`Direction` doesn't implement `Debug`",
     "output_type": "error",
     "traceback": [
      "`Direction` cannot be formatted using `{:?}`",
      "`Direction` doesn't implement `Debug`",
      "\u001b[1mhelp\u001b[0m: the trait `Debug` is not implemented for `Direction`",
      "\u001b[1mhelp\u001b[0m: consider annotating `Direction` with `#[derive(Debug)]`\n\n#[derive(Debug)]"
     ]
    }
   ],
   "source": [
    "\n",
    "\n",
    "dir"
   ]
  },
  {
   "cell_type": "code",
   "execution_count": 23,
   "id": "8805e9c8",
   "metadata": {
    "cell_style": "split",
    "slideshow": {
     "slide_type": "fragment"
    }
   },
   "outputs": [],
   "source": [
    "#[derive(Debug)]\n",
    "enum Direction {\n",
    "    North,\n",
    "    East,\n",
    "    South,\n",
    "    West,\n",
    "}\n",
    "\n",
    "use Direction::*;"
   ]
  },
  {
   "cell_type": "markdown",
   "id": "1cca3194",
   "metadata": {},
   "source": [
    "### What is #[derive(Debug)]?\n",
    "\n",
    "* A simple way to tell Rust to generate code that allows a complex type to be printed\n",
    "* But you can also do it manually!!!\n",
    "\n",
    "```\n",
    "use std::fmt;\n",
    "\n",
    "impl fmt::Debug for Direction {\n",
    "    fn fmt(&self, f: &mut fmt::Formatter) -> fmt::Result {\n",
    "           match *self {\n",
    "               Direction::North => write!(f, \"North\"),\n",
    "               Direction::East => write!(f, \"East\"),\n",
    "               Direction::South => write!(f, \"South\"),\n",
    "               Direction::West => write!(f, \"West\"),               \n",
    "           }\n",
    "    }\n",
    "}\n",
    "```"
   ]
  },
  {
   "cell_type": "code",
   "execution_count": 24,
   "id": "5e25f14c",
   "metadata": {
    "cell_style": "split",
    "slideshow": {
     "slide_type": "fragment"
    }
   },
   "outputs": [
    {
     "data": {
      "text/plain": [
       "North"
      ]
     },
     "execution_count": 24,
     "metadata": {},
     "output_type": "execute_result"
    }
   ],
   "source": [
    "dir"
   ]
  },
  {
   "cell_type": "code",
   "execution_count": 26,
   "id": "30f1bbb9",
   "metadata": {
    "cell_style": "split",
    "slideshow": {
     "slide_type": "fragment"
    }
   },
   "outputs": [
    {
     "name": "stdout",
     "output_type": "stream",
     "text": [
      "North\n"
     ]
    }
   ],
   "source": [
    "println!(\"{:?}\",dir);"
   ]
  },
  {
   "cell_type": "code",
   "execution_count": 27,
   "id": "1351ea3c",
   "metadata": {},
   "outputs": [
    {
     "name": "stdout",
     "output_type": "stream",
     "text": [
      "North\n"
     ]
    }
   ],
   "source": [
    "// Example of how make a complex datatype printable directly (without deriving from Debug)\n",
    "use std::fmt;\n",
    "\n",
    "impl fmt::Display for Direction {\n",
    "    fn fmt(&self, f: &mut fmt::Formatter) -> fmt::Result {\n",
    "           match *self {\n",
    "               Direction::North => write!(f, \"North\"),\n",
    "               Direction::East => write!(f, \"East\"),\n",
    "               Direction::South => write!(f, \"South\"),\n",
    "               Direction::West => write!(f, \"West\"),               \n",
    "           }\n",
    "    }\n",
    "}\n",
    "println!(\"{}\", dir);"
   ]
  },
  {
   "cell_type": "code",
   "execution_count": 28,
   "id": "ec17d772",
   "metadata": {},
   "outputs": [
    {
     "name": "stdout",
     "output_type": "stream",
     "text": [
      "Some(10), None\n",
      "10\n",
      "Ok(10), Err(\"negative\")\n",
      "10\n"
     ]
    }
   ],
   "source": [
    "// Some special enums\n",
    "// A result can represent either success/ Ok or failure/ Err.\n",
    "// enum Result<T, E> { // T and E are generics. T can contain any type of value, E can be any error.\n",
    "//    Ok(T),\n",
    "//    Err(E),\n",
    "// }\n",
    "\n",
    "// An output can have either Some value or no value/ None.\n",
    "// enum Option<T> { // T is a generic and it can contain any type of value.\n",
    "//    Some(T),\n",
    "//    None,\n",
    "// }\n",
    "\n",
    "fn func_with_check(input: i32) -> Option<i32> {\n",
    "    if input >= 0 {\n",
    "        return Some(input)\n",
    "    } else {\n",
    "        return None;\n",
    "    }\n",
    "}\n",
    "println!(\"{:?}, {:?}\", func_with_check(10), func_with_check(-10));\n",
    "println!(\"{}\", func_with_check(10).unwrap());\n",
    "\n",
    "fn func_with_error(input: i32) -> Result<i32, &'static str> {\n",
    "    if input >= 0 {\n",
    "        return Ok(input)\n",
    "    } else {\n",
    "        return Err(\"negative\");\n",
    "    }\n",
    "}\n",
    "\n",
    "println!(\"{:?}, {:?}\", func_with_error(10), func_with_error(-10));\n",
    "println!(\"{}\", func_with_error(10).unwrap());\n"
   ]
  },
  {
   "cell_type": "code",
   "execution_count": 31,
   "id": "fea073e5",
   "metadata": {},
   "outputs": [
    {
     "name": "stderr",
     "output_type": "stream",
     "text": [
      "thread '<unnamed>' panicked at 'Oops', src/lib.rs:177:3\n",
      "stack backtrace:\n",
      "   0: _rust_begin_unwind\n",
      "   1: core::panicking::panic_fmt\n",
      "   2: core::panicking::panic_display\n",
      "   3: core::panicking::panic_str\n",
      "   4: core::option::expect_failed\n",
      "   5: _run_user_code_24\n",
      "   6: evcxr::runtime::Runtime::run_loop\n",
      "   7: evcxr::runtime::runtime_hook\n",
      "   8: evcxr_jupyter::main\n",
      "note: Some details are omitted, run with `RUST_BACKTRACE=full` for a verbose backtrace.\n"
     ]
    },
    {
     "ename": "Error",
     "evalue": "Subprocess terminated with status: exit status: 101",
     "output_type": "error",
     "traceback": [
      "Subprocess terminated with status: exit status: 101"
     ]
    }
   ],
   "source": [
    "// You can unwrap and get the values out of Some and Ok.  But unwrapping None or Err will result in the program\n",
    "// terminating with an appropriate error.\n",
    "//let z : Result<i32, &str>;\n",
    "//z = Err(\"negative\");\n",
    "//z.unwrap();\n",
    "// Or \n",
    "let z: Option<i32> = None;\n",
    "z.expect(\"Oops\");"
   ]
  },
  {
   "cell_type": "markdown",
   "id": "57e0ce40",
   "metadata": {
    "slideshow": {
     "slide_type": "subslide"
    }
   },
   "source": [
    "## Enums: pattern matching via `match`"
   ]
  },
  {
   "cell_type": "code",
   "execution_count": 32,
   "id": "9665f1e0",
   "metadata": {
    "cell_style": "split",
    "slideshow": {
     "slide_type": "-"
    }
   },
   "outputs": [
    {
     "name": "stdout",
     "output_type": "stream",
     "text": [
      "N\n"
     ]
    }
   ],
   "source": [
    "#[derive(Debug)]\n",
    "enum Direction {\n",
    "    North,\n",
    "    East,\n",
    "    South,\n",
    "    West,\n",
    "}\n",
    "let dir = Direction::North;\n",
    "\n",
    "// print the direction\n",
    "match dir {\n",
    "    // if things not in scope,\n",
    "    // have to use \"Direction::\" \n",
    "    Direction::North => println!(\"N\"),\n",
    "    // but they are, so we don't have to\n",
    "    South => println!(\"S\"),\n",
    "    West => println!(\"W\"),\n",
    "    East => println!(\"E\"),\n",
    "};"
   ]
  },
  {
   "cell_type": "code",
   "execution_count": 33,
   "id": "eabce3c5",
   "metadata": {
    "cell_style": "split",
    "slideshow": {
     "slide_type": "fragment"
    }
   },
   "outputs": [
    {
     "ename": "Error",
     "evalue": "non-exhaustive patterns: `East` and `West` not covered",
     "output_type": "error",
     "traceback": [
      "match dir_2 {",
      "\u001b[91m      ^^^^^\u001b[0m \u001b[94mpatterns `East` and `West` not covered\u001b[0m",
      "non-exhaustive patterns: `East` and `West` not covered",
      "\u001b[1mhelp\u001b[0m: ensure that all possible cases are being handled by adding a match arm with a wildcard pattern, a match arm with multiple or-patterns as shown, or multiple match arms\n\n,\n    East | West => todo!()"
     ]
    }
   ],
   "source": [
    "let dir_2: Direction = Direction::South;\n",
    "\n",
    "// won't work \n",
    "match dir_2 {\n",
    "    North => println!(\"N\"),\n",
    "    South => println!(\"S\"),\n",
    "    // East and West not covered\n",
    "};"
   ]
  },
  {
   "cell_type": "code",
   "execution_count": 34,
   "id": "c55c8077",
   "metadata": {
    "cell_style": "split",
    "slideshow": {
     "slide_type": "fragment"
    }
   },
   "outputs": [
    {
     "name": "stdout",
     "output_type": "stream",
     "text": [
      "S\n"
     ]
    },
    {
     "data": {
      "text/plain": [
       "()"
      ]
     },
     "execution_count": 34,
     "metadata": {},
     "output_type": "execute_result"
    }
   ],
   "source": [
    "let dir_2: Direction = Direction::South;\n",
    "\n",
    "match dir_2 {\n",
    "    North => println!(\"N\"),\n",
    "    South => println!(\"S\"),\n",
    "    \n",
    "    // match anything left\n",
    "    _ => (),\n",
    "}"
   ]
  },
  {
   "cell_type": "code",
   "execution_count": 35,
   "id": "89869489",
   "metadata": {
    "cell_style": "split",
    "slideshow": {
     "slide_type": "fragment"
    }
   },
   "outputs": [
    {
     "data": {
      "text/plain": [
       "()"
      ]
     },
     "execution_count": 35,
     "metadata": {},
     "output_type": "execute_result"
    }
   ],
   "source": [
    "match dir_2 {\n",
    "    _ => (),\n",
    "    \n",
    "    // will never get here!!\n",
    "    North => println!(\"N\"),\n",
    "    South => println!(\"S\"),\n",
    "}"
   ]
  },
  {
   "cell_type": "markdown",
   "id": "735ff9f2",
   "metadata": {},
   "source": [
    "### What is match?\n",
    "* This of a switch statement in C/C++ (Python doesn't have an equivalent)\n",
    "* Must be exhaustive though there is a way to specify default (_ =>) "
   ]
  },
  {
   "cell_type": "markdown",
   "id": "452ad6fb",
   "metadata": {
    "slideshow": {
     "slide_type": "subslide"
    }
   },
   "source": [
    "## `match` as expression"
   ]
  },
  {
   "cell_type": "code",
   "execution_count": 42,
   "id": "967508da",
   "metadata": {
    "cell_style": "center",
    "slideshow": {
     "slide_type": "-"
    }
   },
   "outputs": [
    {
     "name": "stdout",
     "output_type": "stream",
     "text": [
      "North\n",
      "West\n"
     ]
    }
   ],
   "source": [
    "// swap east and west\n",
    "let mut dir_4 = North;\n",
    "println!(\"{:?}\", dir_4);\n",
    "\n",
    "dir_4 = match dir_4 {\n",
    "    East => West,\n",
    "    West => {\n",
    "        println!(\"Switching West to East\");\n",
    "        East\n",
    "    }\n",
    "    // variable mathching anything else\n",
    "    _ => West,\n",
    "\n",
    "};\n",
    "\n",
    "println!(\"{:?}\", dir_4);"
   ]
  },
  {
   "cell_type": "markdown",
   "id": "6308652f",
   "metadata": {
    "slideshow": {
     "slide_type": "subslide"
    }
   },
   "source": [
    "## Simplified matching `if let`\n",
    "\n",
    "Consider the following example (in which we want to use just one branch):"
   ]
  },
  {
   "cell_type": "code",
   "execution_count": 44,
   "id": "3f223ea6",
   "metadata": {},
   "outputs": [
    {
     "name": "stdout",
     "output_type": "stream",
     "text": [
      "11 2 (reminder 0)\n"
     ]
    }
   ],
   "source": [
    "#[derive(Debug)]\n",
    "enum DivisionResult {\n",
    "    Ok(u32,u32),\n",
    "    DivisionByZero,\n",
    "}\n",
    "\n",
    "fn divide(x:u32, y:u32) -> DivisionResult {\n",
    "    if y == 0 {\n",
    "        DivisionResult::DivisionByZero\n",
    "    } else {\n",
    "        DivisionResult::Ok(x / y, x % y)\n",
    "    }\n",
    "}\n",
    "\n",
    "\n",
    "match divide(8,4) {\n",
    "    DivisionResult::Ok(result,reminder) => println!(\"11 {} (reminder {})\",result,reminder),\n",
    "    _ => (), // <--- how to avoid this?\n",
    "};\n"
   ]
  },
  {
   "cell_type": "markdown",
   "id": "5e057623",
   "metadata": {
    "slideshow": {
     "slide_type": "fragment"
    }
   },
   "source": [
    "`if let` allows for matching just one branch"
   ]
  },
  {
   "cell_type": "code",
   "execution_count": 46,
   "id": "b47127ad",
   "metadata": {},
   "outputs": [
    {
     "name": "stdout",
     "output_type": "stream",
     "text": [
      "1 (reminder 1)\n"
     ]
    }
   ],
   "source": [
    "if let DivisionResult::Ok(result,reminder) = divide(8,7) { \n",
    "    println!(\"{} (reminder {})\",result,reminder);\n",
    "};"
   ]
  },
  {
   "cell_type": "code",
   "execution_count": 47,
   "id": "70bbde53",
   "metadata": {
    "cell_style": "split",
    "slideshow": {
     "slide_type": "fragment"
    }
   },
   "outputs": [
    {
     "name": "stdout",
     "output_type": "stream",
     "text": [
      "North\n"
     ]
    }
   ],
   "source": [
    "use Direction::*;\n",
    "let dir = North;\n",
    "if let North = dir {\n",
    "    println!(\"North\");\n",
    "};"
   ]
  },
  {
   "cell_type": "code",
   "execution_count": 48,
   "id": "36ae6ae6",
   "metadata": {
    "cell_style": "split",
    "slideshow": {
     "slide_type": "fragment"
    }
   },
   "outputs": [
    {
     "name": "stdout",
     "output_type": "stream",
     "text": [
      "North\n"
     ]
    }
   ],
   "source": [
    "if let dir = North {\n",
    "    println!(\"North\");\n",
    "} else {\n",
    "    println!(\"Something else\");\n",
    "};"
   ]
  },
  {
   "cell_type": "markdown",
   "id": "3a2897df",
   "metadata": {},
   "source": [
    "### Read chapter 6 from the book!"
   ]
  },
  {
   "cell_type": "markdown",
   "id": "fcff4594",
   "metadata": {
    "slideshow": {
     "slide_type": "slide"
    }
   },
   "source": [
    "<br><br>\n",
    "\n",
    "<div align=\"center\">\n",
    "    <h1>Next 2 lectures: things will get interesting </h1>\n",
    "</div>\n",
    "\n",
    "<br><br>\n",
    "\n",
    "<div align=\"center\">\n",
    "    <h1>Memory management in general and in Rust and Rust semantics about memory ownership and borrowing </h1>\n",
    "</div>"
   ]
  },
  {
   "cell_type": "code",
   "execution_count": null,
   "id": "7ef1d3f9",
   "metadata": {},
   "outputs": [],
   "source": []
  }
 ],
 "metadata": {
  "celltoolbar": "Slideshow",
  "kernelspec": {
   "display_name": "Rust",
   "language": "rust",
   "name": "rust"
  },
  "language_info": {
   "codemirror_mode": "rust",
   "file_extension": ".rs",
   "mimetype": "text/rust",
   "name": "Rust",
   "pygment_lexer": "rust",
   "version": ""
  },
  "rise": {
   "theme": "beige",
   "transition": "fade"
  }
 },
 "nbformat": 4,
 "nbformat_minor": 5
}
